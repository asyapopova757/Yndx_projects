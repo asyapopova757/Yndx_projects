{
 "cells": [
  {
   "cell_type": "markdown",
   "metadata": {},
   "source": [
    "**Анализ гипотез для увеличения выручки интернет магазина**\n",
    "=\n",
    "Как аналитику крупного интернет-магазина нам предстоит исследовать список гипотез, подготовленный отделом маркетинга, для увеличения выручки, провести приоритезацию гипотез, исследовать качество  разделения на группы,  запустить A/B-тест и проанализировать результаты.\n",
    "\n",
    "Приоритезация гипотез лежит в основе управления продуктом, стратегии его развития. Идей как улучшить продукт может быть много, редко менеджмент компании выбирает из двух гипотез, обычно их больше. Но как определить какая из них сильная идея а какая слабая? Какую идею тестировать и запустить в первую очередь. Ведь в бизнесе нельзя просто положиться на мнение коллег, начальников, интуицию и пользователей. Поэтому применяют простые проверенные методики расчета приоритетов ICE Scoring и RICE Scoring. \n",
    "\n",
    "Обе методики объединяют различные факторы: влияние на пользователей (улучшают конверсию, помогает привлечь новых, удержать старых, добавляет ценности продукту итд), уверенность что идея стоит реализации, затраты -то сколько сил, времени, ресурсов потребуется на реализацию, методика RICE добавляет еще один параметр - reach (охват ) на какое количество людей повлияют изменения, какой будет охват реализуемой идеи, это довольно важный показатель, помогает уменьшить субъективность метода ICE."
   ]
  },
  {
   "cell_type": "markdown",
   "metadata": {},
   "source": [
    "Часть. Приоритизация гипотез\n",
    "-"
   ]
  },
  {
   "cell_type": "markdown",
   "metadata": {},
   "source": [
    "**Описание данных**\n",
    "\n",
    "Файл /datasets/hypothesis.csv. [Cкачать датасет](https://code.s3.yandex.net/datasets/hypothesis.csv)\n",
    "\n",
    "**Hypothesis** — краткое описание гипотезы;  \n",
    "**Reach** — охват пользователей по 10-балльной шкале;  \n",
    "**Impact** — влияние на пользователей по 10-балльной шкале;  \n",
    "**Confidence** — уверенность в гипотезе по 10-балльной шкале;  \n",
    "**Efforts** — затраты ресурсов на проверку гипотезы по 10-балльной шкале. Чем больше значение Efforts, тем дороже проверка гипотезы.\n"
   ]
  },
  {
   "cell_type": "code",
   "execution_count": 2,
   "metadata": {},
   "outputs": [],
   "source": [
    "import pandas as pd\n",
    "import scipy.stats as stats\n",
    "import datetime as dt\n",
    "import numpy as np\n",
    "import matplotlib.pyplot as plt\n",
    "import seaborn as sns\n",
    "from scipy import stats as st"
   ]
  },
  {
   "cell_type": "code",
   "execution_count": 3,
   "metadata": {},
   "outputs": [
    {
     "data": {
      "text/html": [
       "<div>\n",
       "<style scoped>\n",
       "    .dataframe tbody tr th:only-of-type {\n",
       "        vertical-align: middle;\n",
       "    }\n",
       "\n",
       "    .dataframe tbody tr th {\n",
       "        vertical-align: top;\n",
       "    }\n",
       "\n",
       "    .dataframe thead th {\n",
       "        text-align: right;\n",
       "    }\n",
       "</style>\n",
       "<table border=\"1\" class=\"dataframe\">\n",
       "  <thead>\n",
       "    <tr style=\"text-align: right;\">\n",
       "      <th></th>\n",
       "      <th>Hypothesis</th>\n",
       "      <th>Reach</th>\n",
       "      <th>Impact</th>\n",
       "      <th>Confidence</th>\n",
       "      <th>Efforts</th>\n",
       "    </tr>\n",
       "  </thead>\n",
       "  <tbody>\n",
       "    <tr>\n",
       "      <th>0</th>\n",
       "      <td>Добавить два новых канала привлечения трафика,...</td>\n",
       "      <td>3</td>\n",
       "      <td>10</td>\n",
       "      <td>8</td>\n",
       "      <td>6</td>\n",
       "    </tr>\n",
       "    <tr>\n",
       "      <th>1</th>\n",
       "      <td>Запустить собственную службу доставки, что сок...</td>\n",
       "      <td>2</td>\n",
       "      <td>5</td>\n",
       "      <td>4</td>\n",
       "      <td>10</td>\n",
       "    </tr>\n",
       "    <tr>\n",
       "      <th>2</th>\n",
       "      <td>Добавить блоки рекомендаций товаров на сайт ин...</td>\n",
       "      <td>8</td>\n",
       "      <td>3</td>\n",
       "      <td>7</td>\n",
       "      <td>3</td>\n",
       "    </tr>\n",
       "    <tr>\n",
       "      <th>3</th>\n",
       "      <td>Изменить структура категорий, что увеличит кон...</td>\n",
       "      <td>8</td>\n",
       "      <td>3</td>\n",
       "      <td>3</td>\n",
       "      <td>8</td>\n",
       "    </tr>\n",
       "    <tr>\n",
       "      <th>4</th>\n",
       "      <td>Изменить цвет фона главной страницы, чтобы уве...</td>\n",
       "      <td>3</td>\n",
       "      <td>1</td>\n",
       "      <td>1</td>\n",
       "      <td>1</td>\n",
       "    </tr>\n",
       "    <tr>\n",
       "      <th>5</th>\n",
       "      <td>Добавить страницу отзывов клиентов о магазине,...</td>\n",
       "      <td>3</td>\n",
       "      <td>2</td>\n",
       "      <td>2</td>\n",
       "      <td>3</td>\n",
       "    </tr>\n",
       "    <tr>\n",
       "      <th>6</th>\n",
       "      <td>Показать на главной странице баннеры с актуаль...</td>\n",
       "      <td>5</td>\n",
       "      <td>3</td>\n",
       "      <td>8</td>\n",
       "      <td>3</td>\n",
       "    </tr>\n",
       "    <tr>\n",
       "      <th>7</th>\n",
       "      <td>Добавить форму подписки на все основные страни...</td>\n",
       "      <td>10</td>\n",
       "      <td>7</td>\n",
       "      <td>8</td>\n",
       "      <td>5</td>\n",
       "    </tr>\n",
       "    <tr>\n",
       "      <th>8</th>\n",
       "      <td>Запустить акцию, дающую скидку на товар в день...</td>\n",
       "      <td>1</td>\n",
       "      <td>9</td>\n",
       "      <td>9</td>\n",
       "      <td>5</td>\n",
       "    </tr>\n",
       "  </tbody>\n",
       "</table>\n",
       "</div>"
      ],
      "text/plain": [
       "                                          Hypothesis  Reach  Impact  \\\n",
       "0  Добавить два новых канала привлечения трафика,...      3      10   \n",
       "1  Запустить собственную службу доставки, что сок...      2       5   \n",
       "2  Добавить блоки рекомендаций товаров на сайт ин...      8       3   \n",
       "3  Изменить структура категорий, что увеличит кон...      8       3   \n",
       "4  Изменить цвет фона главной страницы, чтобы уве...      3       1   \n",
       "5  Добавить страницу отзывов клиентов о магазине,...      3       2   \n",
       "6  Показать на главной странице баннеры с актуаль...      5       3   \n",
       "7  Добавить форму подписки на все основные страни...     10       7   \n",
       "8  Запустить акцию, дающую скидку на товар в день...      1       9   \n",
       "\n",
       "   Confidence  Efforts  \n",
       "0           8        6  \n",
       "1           4       10  \n",
       "2           7        3  \n",
       "3           3        8  \n",
       "4           1        1  \n",
       "5           2        3  \n",
       "6           8        3  \n",
       "7           8        5  \n",
       "8           9        5  "
      ]
     },
     "execution_count": 3,
     "metadata": {},
     "output_type": "execute_result"
    }
   ],
   "source": [
    "data = pd.read_csv('/datasets/hypothesis.csv', sep=',')\n",
    "data"
   ]
  },
  {
   "cell_type": "markdown",
   "metadata": {},
   "source": [
    "Приведем названия колонок к нижнему регистру"
   ]
  },
  {
   "cell_type": "code",
   "execution_count": 4,
   "metadata": {},
   "outputs": [],
   "source": [
    "data.columns = data.columns.str.lower()"
   ]
  },
  {
   "cell_type": "markdown",
   "metadata": {},
   "source": [
    "Проведем приоритезацию гипотез с помощью фреймворка ICE (умножаем влияние на пользователей impact на уверенность в этом confidence и делим на значение стоимости теста efforts)"
   ]
  },
  {
   "cell_type": "markdown",
   "metadata": {},
   "source": [
    "Рассчитываем ICE, результат записываем в отдельный столбец"
   ]
  },
  {
   "cell_type": "code",
   "execution_count": 5,
   "metadata": {},
   "outputs": [
    {
     "data": {
      "text/html": [
       "<div>\n",
       "<style scoped>\n",
       "    .dataframe tbody tr th:only-of-type {\n",
       "        vertical-align: middle;\n",
       "    }\n",
       "\n",
       "    .dataframe tbody tr th {\n",
       "        vertical-align: top;\n",
       "    }\n",
       "\n",
       "    .dataframe thead th {\n",
       "        text-align: right;\n",
       "    }\n",
       "</style>\n",
       "<table border=\"1\" class=\"dataframe\">\n",
       "  <thead>\n",
       "    <tr style=\"text-align: right;\">\n",
       "      <th></th>\n",
       "      <th>hypothesis</th>\n",
       "      <th>ICE</th>\n",
       "    </tr>\n",
       "  </thead>\n",
       "  <tbody>\n",
       "    <tr>\n",
       "      <th>8</th>\n",
       "      <td>Запустить акцию, дающую скидку на товар в день...</td>\n",
       "      <td>16.20</td>\n",
       "    </tr>\n",
       "    <tr>\n",
       "      <th>0</th>\n",
       "      <td>Добавить два новых канала привлечения трафика,...</td>\n",
       "      <td>13.33</td>\n",
       "    </tr>\n",
       "    <tr>\n",
       "      <th>7</th>\n",
       "      <td>Добавить форму подписки на все основные страни...</td>\n",
       "      <td>11.20</td>\n",
       "    </tr>\n",
       "    <tr>\n",
       "      <th>6</th>\n",
       "      <td>Показать на главной странице баннеры с актуаль...</td>\n",
       "      <td>8.00</td>\n",
       "    </tr>\n",
       "    <tr>\n",
       "      <th>2</th>\n",
       "      <td>Добавить блоки рекомендаций товаров на сайт ин...</td>\n",
       "      <td>7.00</td>\n",
       "    </tr>\n",
       "    <tr>\n",
       "      <th>1</th>\n",
       "      <td>Запустить собственную службу доставки, что сок...</td>\n",
       "      <td>2.00</td>\n",
       "    </tr>\n",
       "    <tr>\n",
       "      <th>5</th>\n",
       "      <td>Добавить страницу отзывов клиентов о магазине,...</td>\n",
       "      <td>1.33</td>\n",
       "    </tr>\n",
       "    <tr>\n",
       "      <th>3</th>\n",
       "      <td>Изменить структура категорий, что увеличит кон...</td>\n",
       "      <td>1.12</td>\n",
       "    </tr>\n",
       "    <tr>\n",
       "      <th>4</th>\n",
       "      <td>Изменить цвет фона главной страницы, чтобы уве...</td>\n",
       "      <td>1.00</td>\n",
       "    </tr>\n",
       "  </tbody>\n",
       "</table>\n",
       "</div>"
      ],
      "text/plain": [
       "                                          hypothesis    ICE\n",
       "8  Запустить акцию, дающую скидку на товар в день...  16.20\n",
       "0  Добавить два новых канала привлечения трафика,...  13.33\n",
       "7  Добавить форму подписки на все основные страни...  11.20\n",
       "6  Показать на главной странице баннеры с актуаль...   8.00\n",
       "2  Добавить блоки рекомендаций товаров на сайт ин...   7.00\n",
       "1  Запустить собственную службу доставки, что сок...   2.00\n",
       "5  Добавить страницу отзывов клиентов о магазине,...   1.33\n",
       "3  Изменить структура категорий, что увеличит кон...   1.12\n",
       "4  Изменить цвет фона главной страницы, чтобы уве...   1.00"
      ]
     },
     "metadata": {},
     "output_type": "display_data"
    }
   ],
   "source": [
    "data['ICE'] = round (data['impact']*data['confidence']/data['efforts'], 2)\n",
    "display(data[['hypothesis','ICE']].sort_values(by='ICE', ascending=False)) # выводим на экран гипотезы в порядке приоритезации по ICE\n"
   ]
  },
  {
   "cell_type": "code",
   "execution_count": 6,
   "metadata": {},
   "outputs": [
    {
     "data": {
      "text/html": [
       "<div>\n",
       "<style scoped>\n",
       "    .dataframe tbody tr th:only-of-type {\n",
       "        vertical-align: middle;\n",
       "    }\n",
       "\n",
       "    .dataframe tbody tr th {\n",
       "        vertical-align: top;\n",
       "    }\n",
       "\n",
       "    .dataframe thead th {\n",
       "        text-align: right;\n",
       "    }\n",
       "</style>\n",
       "<table border=\"1\" class=\"dataframe\">\n",
       "  <thead>\n",
       "    <tr style=\"text-align: right;\">\n",
       "      <th></th>\n",
       "      <th>hypothesis</th>\n",
       "      <th>reach</th>\n",
       "      <th>impact</th>\n",
       "      <th>confidence</th>\n",
       "      <th>efforts</th>\n",
       "      <th>ICE</th>\n",
       "    </tr>\n",
       "  </thead>\n",
       "  <tbody>\n",
       "    <tr>\n",
       "      <th>8</th>\n",
       "      <td>Запустить акцию, дающую скидку на товар в день рождения</td>\n",
       "      <td>1</td>\n",
       "      <td>9</td>\n",
       "      <td>9</td>\n",
       "      <td>5</td>\n",
       "      <td>16.20</td>\n",
       "    </tr>\n",
       "    <tr>\n",
       "      <th>0</th>\n",
       "      <td>Добавить два новых канала привлечения трафика, что позволит привлекать на 30% больше пользователей</td>\n",
       "      <td>3</td>\n",
       "      <td>10</td>\n",
       "      <td>8</td>\n",
       "      <td>6</td>\n",
       "      <td>13.33</td>\n",
       "    </tr>\n",
       "    <tr>\n",
       "      <th>7</th>\n",
       "      <td>Добавить форму подписки на все основные страницы, чтобы собрать базу клиентов для email-рассылок</td>\n",
       "      <td>10</td>\n",
       "      <td>7</td>\n",
       "      <td>8</td>\n",
       "      <td>5</td>\n",
       "      <td>11.20</td>\n",
       "    </tr>\n",
       "    <tr>\n",
       "      <th>6</th>\n",
       "      <td>Показать на главной странице баннеры с актуальными акциями и распродажами, чтобы увеличить конверсию</td>\n",
       "      <td>5</td>\n",
       "      <td>3</td>\n",
       "      <td>8</td>\n",
       "      <td>3</td>\n",
       "      <td>8.00</td>\n",
       "    </tr>\n",
       "    <tr>\n",
       "      <th>2</th>\n",
       "      <td>Добавить блоки рекомендаций товаров на сайт интернет магазина, чтобы повысить конверсию и средний чек заказа</td>\n",
       "      <td>8</td>\n",
       "      <td>3</td>\n",
       "      <td>7</td>\n",
       "      <td>3</td>\n",
       "      <td>7.00</td>\n",
       "    </tr>\n",
       "    <tr>\n",
       "      <th>1</th>\n",
       "      <td>Запустить собственную службу доставки, что сократит срок доставки заказов</td>\n",
       "      <td>2</td>\n",
       "      <td>5</td>\n",
       "      <td>4</td>\n",
       "      <td>10</td>\n",
       "      <td>2.00</td>\n",
       "    </tr>\n",
       "    <tr>\n",
       "      <th>5</th>\n",
       "      <td>Добавить страницу отзывов клиентов о магазине, что позволит увеличить количество заказов</td>\n",
       "      <td>3</td>\n",
       "      <td>2</td>\n",
       "      <td>2</td>\n",
       "      <td>3</td>\n",
       "      <td>1.33</td>\n",
       "    </tr>\n",
       "    <tr>\n",
       "      <th>3</th>\n",
       "      <td>Изменить структура категорий, что увеличит конверсию, т.к. пользователи быстрее найдут нужный товар</td>\n",
       "      <td>8</td>\n",
       "      <td>3</td>\n",
       "      <td>3</td>\n",
       "      <td>8</td>\n",
       "      <td>1.12</td>\n",
       "    </tr>\n",
       "    <tr>\n",
       "      <th>4</th>\n",
       "      <td>Изменить цвет фона главной страницы, чтобы увеличить вовлеченность пользователей</td>\n",
       "      <td>3</td>\n",
       "      <td>1</td>\n",
       "      <td>1</td>\n",
       "      <td>1</td>\n",
       "      <td>1.00</td>\n",
       "    </tr>\n",
       "  </tbody>\n",
       "</table>\n",
       "</div>"
      ],
      "text/plain": [
       "                                                                                                     hypothesis  \\\n",
       "8                                                       Запустить акцию, дающую скидку на товар в день рождения   \n",
       "0            Добавить два новых канала привлечения трафика, что позволит привлекать на 30% больше пользователей   \n",
       "7              Добавить форму подписки на все основные страницы, чтобы собрать базу клиентов для email-рассылок   \n",
       "6          Показать на главной странице баннеры с актуальными акциями и распродажами, чтобы увеличить конверсию   \n",
       "2  Добавить блоки рекомендаций товаров на сайт интернет магазина, чтобы повысить конверсию и средний чек заказа   \n",
       "1                                     Запустить собственную службу доставки, что сократит срок доставки заказов   \n",
       "5                      Добавить страницу отзывов клиентов о магазине, что позволит увеличить количество заказов   \n",
       "3           Изменить структура категорий, что увеличит конверсию, т.к. пользователи быстрее найдут нужный товар   \n",
       "4                              Изменить цвет фона главной страницы, чтобы увеличить вовлеченность пользователей   \n",
       "\n",
       "   reach  impact  confidence  efforts    ICE  \n",
       "8      1       9           9        5  16.20  \n",
       "0      3      10           8        6  13.33  \n",
       "7     10       7           8        5  11.20  \n",
       "6      5       3           8        3   8.00  \n",
       "2      8       3           7        3   7.00  \n",
       "1      2       5           4       10   2.00  \n",
       "5      3       2           2        3   1.33  \n",
       "3      8       3           3        8   1.12  \n",
       "4      3       1           1        1   1.00  "
      ]
     },
     "execution_count": 6,
     "metadata": {},
     "output_type": "execute_result"
    }
   ],
   "source": [
    "pd.set_option('max_colwidth', 150) # увеличиваем максимальную ширину столбца\n",
    "data.sort_values(by='ICE',ascending=False)"
   ]
  },
  {
   "cell_type": "markdown",
   "metadata": {},
   "source": [
    "Применим фреймворк RICE для приоритизации гипотез. При использовании этого фреймворка в множители числителя добавляем значение количества пользователей, которых затронут изменения, - reach"
   ]
  },
  {
   "cell_type": "code",
   "execution_count": 7,
   "metadata": {},
   "outputs": [
    {
     "data": {
      "text/html": [
       "<div>\n",
       "<style scoped>\n",
       "    .dataframe tbody tr th:only-of-type {\n",
       "        vertical-align: middle;\n",
       "    }\n",
       "\n",
       "    .dataframe tbody tr th {\n",
       "        vertical-align: top;\n",
       "    }\n",
       "\n",
       "    .dataframe thead th {\n",
       "        text-align: right;\n",
       "    }\n",
       "</style>\n",
       "<table border=\"1\" class=\"dataframe\">\n",
       "  <thead>\n",
       "    <tr style=\"text-align: right;\">\n",
       "      <th></th>\n",
       "      <th>hypothesis</th>\n",
       "      <th>reach</th>\n",
       "      <th>impact</th>\n",
       "      <th>confidence</th>\n",
       "      <th>efforts</th>\n",
       "      <th>ICE</th>\n",
       "      <th>RICE</th>\n",
       "    </tr>\n",
       "  </thead>\n",
       "  <tbody>\n",
       "    <tr>\n",
       "      <th>7</th>\n",
       "      <td>Добавить форму подписки на все основные страницы, чтобы собрать базу клиентов для email-рассылок</td>\n",
       "      <td>10</td>\n",
       "      <td>7</td>\n",
       "      <td>8</td>\n",
       "      <td>5</td>\n",
       "      <td>11.20</td>\n",
       "      <td>112.0</td>\n",
       "    </tr>\n",
       "    <tr>\n",
       "      <th>2</th>\n",
       "      <td>Добавить блоки рекомендаций товаров на сайт интернет магазина, чтобы повысить конверсию и средний чек заказа</td>\n",
       "      <td>8</td>\n",
       "      <td>3</td>\n",
       "      <td>7</td>\n",
       "      <td>3</td>\n",
       "      <td>7.00</td>\n",
       "      <td>56.0</td>\n",
       "    </tr>\n",
       "    <tr>\n",
       "      <th>0</th>\n",
       "      <td>Добавить два новых канала привлечения трафика, что позволит привлекать на 30% больше пользователей</td>\n",
       "      <td>3</td>\n",
       "      <td>10</td>\n",
       "      <td>8</td>\n",
       "      <td>6</td>\n",
       "      <td>13.33</td>\n",
       "      <td>40.0</td>\n",
       "    </tr>\n",
       "    <tr>\n",
       "      <th>6</th>\n",
       "      <td>Показать на главной странице баннеры с актуальными акциями и распродажами, чтобы увеличить конверсию</td>\n",
       "      <td>5</td>\n",
       "      <td>3</td>\n",
       "      <td>8</td>\n",
       "      <td>3</td>\n",
       "      <td>8.00</td>\n",
       "      <td>40.0</td>\n",
       "    </tr>\n",
       "    <tr>\n",
       "      <th>8</th>\n",
       "      <td>Запустить акцию, дающую скидку на товар в день рождения</td>\n",
       "      <td>1</td>\n",
       "      <td>9</td>\n",
       "      <td>9</td>\n",
       "      <td>5</td>\n",
       "      <td>16.20</td>\n",
       "      <td>16.2</td>\n",
       "    </tr>\n",
       "    <tr>\n",
       "      <th>3</th>\n",
       "      <td>Изменить структура категорий, что увеличит конверсию, т.к. пользователи быстрее найдут нужный товар</td>\n",
       "      <td>8</td>\n",
       "      <td>3</td>\n",
       "      <td>3</td>\n",
       "      <td>8</td>\n",
       "      <td>1.12</td>\n",
       "      <td>9.0</td>\n",
       "    </tr>\n",
       "    <tr>\n",
       "      <th>1</th>\n",
       "      <td>Запустить собственную службу доставки, что сократит срок доставки заказов</td>\n",
       "      <td>2</td>\n",
       "      <td>5</td>\n",
       "      <td>4</td>\n",
       "      <td>10</td>\n",
       "      <td>2.00</td>\n",
       "      <td>4.0</td>\n",
       "    </tr>\n",
       "    <tr>\n",
       "      <th>5</th>\n",
       "      <td>Добавить страницу отзывов клиентов о магазине, что позволит увеличить количество заказов</td>\n",
       "      <td>3</td>\n",
       "      <td>2</td>\n",
       "      <td>2</td>\n",
       "      <td>3</td>\n",
       "      <td>1.33</td>\n",
       "      <td>4.0</td>\n",
       "    </tr>\n",
       "    <tr>\n",
       "      <th>4</th>\n",
       "      <td>Изменить цвет фона главной страницы, чтобы увеличить вовлеченность пользователей</td>\n",
       "      <td>3</td>\n",
       "      <td>1</td>\n",
       "      <td>1</td>\n",
       "      <td>1</td>\n",
       "      <td>1.00</td>\n",
       "      <td>3.0</td>\n",
       "    </tr>\n",
       "  </tbody>\n",
       "</table>\n",
       "</div>"
      ],
      "text/plain": [
       "                                                                                                     hypothesis  \\\n",
       "7              Добавить форму подписки на все основные страницы, чтобы собрать базу клиентов для email-рассылок   \n",
       "2  Добавить блоки рекомендаций товаров на сайт интернет магазина, чтобы повысить конверсию и средний чек заказа   \n",
       "0            Добавить два новых канала привлечения трафика, что позволит привлекать на 30% больше пользователей   \n",
       "6          Показать на главной странице баннеры с актуальными акциями и распродажами, чтобы увеличить конверсию   \n",
       "8                                                       Запустить акцию, дающую скидку на товар в день рождения   \n",
       "3           Изменить структура категорий, что увеличит конверсию, т.к. пользователи быстрее найдут нужный товар   \n",
       "1                                     Запустить собственную службу доставки, что сократит срок доставки заказов   \n",
       "5                      Добавить страницу отзывов клиентов о магазине, что позволит увеличить количество заказов   \n",
       "4                              Изменить цвет фона главной страницы, чтобы увеличить вовлеченность пользователей   \n",
       "\n",
       "   reach  impact  confidence  efforts    ICE   RICE  \n",
       "7     10       7           8        5  11.20  112.0  \n",
       "2      8       3           7        3   7.00   56.0  \n",
       "0      3      10           8        6  13.33   40.0  \n",
       "6      5       3           8        3   8.00   40.0  \n",
       "8      1       9           9        5  16.20   16.2  \n",
       "3      8       3           3        8   1.12    9.0  \n",
       "1      2       5           4       10   2.00    4.0  \n",
       "5      3       2           2        3   1.33    4.0  \n",
       "4      3       1           1        1   1.00    3.0  "
      ]
     },
     "metadata": {},
     "output_type": "display_data"
    }
   ],
   "source": [
    "data['RICE'] = data['reach']*data['impact']*data['confidence']/data['efforts'] # рассчитываем RICE, результат записываем в отдельный столбец\n",
    "display(data.sort_values(by='RICE', ascending=False)) # выводим на экран гипотезы в порядке приоритезации по RICE\n"
   ]
  },
  {
   "cell_type": "markdown",
   "metadata": {},
   "source": [
    "Видим, что гипотезы 7, 0, 6, 2 на первых позициях и в том и в другом списке, но в списке с RICE c наибольшим баллом гипотеза 7 а по методу ICE - гипотеза 8, это связано со значением охвата пользователей - reach, для гипотезы 7 reach 10 баллов поэтому и приоритет выше. "
   ]
  },
  {
   "cell_type": "markdown",
   "metadata": {},
   "source": [
    "Часть. Анализ A/B-теста\n",
    "-"
   ]
  },
  {
   "cell_type": "markdown",
   "metadata": {},
   "source": [
    "**Описание данных:**\n",
    "Файл /datasets/orders.csv\n",
    "\n",
    "**transactionId** — идентификатор заказа;\n",
    "\n",
    "**visitorId** — идентификатор пользователя, совершившего заказ;\n",
    "\n",
    "date — дата, когда был совершён заказ;\n",
    "\n",
    "revenue — выручка заказа;\n",
    "\n",
    "group — группа A/B-теста, в которую попал заказ.\n",
    "\n",
    "Файл /datasets/visitors.csv\n",
    "\n",
    "date — дата;\n",
    "\n",
    "group — группа A/B-теста;\n",
    "\n",
    "visitors — количество пользователей в указанную дату в указанной группе A/B-теста"
   ]
  },
  {
   "cell_type": "markdown",
   "metadata": {},
   "source": [
    "Сохраним полученные результаты АВ-теста в переменных"
   ]
  },
  {
   "cell_type": "code",
   "execution_count": 8,
   "metadata": {},
   "outputs": [
    {
     "data": {
      "text/html": [
       "<div>\n",
       "<style scoped>\n",
       "    .dataframe tbody tr th:only-of-type {\n",
       "        vertical-align: middle;\n",
       "    }\n",
       "\n",
       "    .dataframe tbody tr th {\n",
       "        vertical-align: top;\n",
       "    }\n",
       "\n",
       "    .dataframe thead th {\n",
       "        text-align: right;\n",
       "    }\n",
       "</style>\n",
       "<table border=\"1\" class=\"dataframe\">\n",
       "  <thead>\n",
       "    <tr style=\"text-align: right;\">\n",
       "      <th></th>\n",
       "      <th>transactionId</th>\n",
       "      <th>visitorId</th>\n",
       "      <th>date</th>\n",
       "      <th>revenue</th>\n",
       "      <th>group</th>\n",
       "    </tr>\n",
       "  </thead>\n",
       "  <tbody>\n",
       "    <tr>\n",
       "      <th>0</th>\n",
       "      <td>3667963787</td>\n",
       "      <td>3312258926</td>\n",
       "      <td>2019-08-15</td>\n",
       "      <td>1650</td>\n",
       "      <td>B</td>\n",
       "    </tr>\n",
       "    <tr>\n",
       "      <th>1</th>\n",
       "      <td>2804400009</td>\n",
       "      <td>3642806036</td>\n",
       "      <td>2019-08-15</td>\n",
       "      <td>730</td>\n",
       "      <td>B</td>\n",
       "    </tr>\n",
       "    <tr>\n",
       "      <th>2</th>\n",
       "      <td>2961555356</td>\n",
       "      <td>4069496402</td>\n",
       "      <td>2019-08-15</td>\n",
       "      <td>400</td>\n",
       "      <td>A</td>\n",
       "    </tr>\n",
       "    <tr>\n",
       "      <th>3</th>\n",
       "      <td>3797467345</td>\n",
       "      <td>1196621759</td>\n",
       "      <td>2019-08-15</td>\n",
       "      <td>9759</td>\n",
       "      <td>B</td>\n",
       "    </tr>\n",
       "    <tr>\n",
       "      <th>4</th>\n",
       "      <td>2282983706</td>\n",
       "      <td>2322279887</td>\n",
       "      <td>2019-08-15</td>\n",
       "      <td>2308</td>\n",
       "      <td>B</td>\n",
       "    </tr>\n",
       "  </tbody>\n",
       "</table>\n",
       "</div>"
      ],
      "text/plain": [
       "   transactionId   visitorId        date  revenue group\n",
       "0     3667963787  3312258926  2019-08-15     1650     B\n",
       "1     2804400009  3642806036  2019-08-15      730     B\n",
       "2     2961555356  4069496402  2019-08-15      400     A\n",
       "3     3797467345  1196621759  2019-08-15     9759     B\n",
       "4     2282983706  2322279887  2019-08-15     2308     B"
      ]
     },
     "execution_count": 8,
     "metadata": {},
     "output_type": "execute_result"
    }
   ],
   "source": [
    "orders = pd.read_csv('/datasets/orders.csv', sep=',')\n",
    "orders.head()"
   ]
  },
  {
   "cell_type": "code",
   "execution_count": 9,
   "metadata": {},
   "outputs": [
    {
     "data": {
      "text/html": [
       "<div>\n",
       "<style scoped>\n",
       "    .dataframe tbody tr th:only-of-type {\n",
       "        vertical-align: middle;\n",
       "    }\n",
       "\n",
       "    .dataframe tbody tr th {\n",
       "        vertical-align: top;\n",
       "    }\n",
       "\n",
       "    .dataframe thead th {\n",
       "        text-align: right;\n",
       "    }\n",
       "</style>\n",
       "<table border=\"1\" class=\"dataframe\">\n",
       "  <thead>\n",
       "    <tr style=\"text-align: right;\">\n",
       "      <th></th>\n",
       "      <th>date</th>\n",
       "      <th>group</th>\n",
       "      <th>visitors</th>\n",
       "    </tr>\n",
       "  </thead>\n",
       "  <tbody>\n",
       "    <tr>\n",
       "      <th>0</th>\n",
       "      <td>2019-08-01</td>\n",
       "      <td>A</td>\n",
       "      <td>719</td>\n",
       "    </tr>\n",
       "    <tr>\n",
       "      <th>1</th>\n",
       "      <td>2019-08-02</td>\n",
       "      <td>A</td>\n",
       "      <td>619</td>\n",
       "    </tr>\n",
       "    <tr>\n",
       "      <th>2</th>\n",
       "      <td>2019-08-03</td>\n",
       "      <td>A</td>\n",
       "      <td>507</td>\n",
       "    </tr>\n",
       "    <tr>\n",
       "      <th>3</th>\n",
       "      <td>2019-08-04</td>\n",
       "      <td>A</td>\n",
       "      <td>717</td>\n",
       "    </tr>\n",
       "    <tr>\n",
       "      <th>4</th>\n",
       "      <td>2019-08-05</td>\n",
       "      <td>A</td>\n",
       "      <td>756</td>\n",
       "    </tr>\n",
       "  </tbody>\n",
       "</table>\n",
       "</div>"
      ],
      "text/plain": [
       "         date group  visitors\n",
       "0  2019-08-01     A       719\n",
       "1  2019-08-02     A       619\n",
       "2  2019-08-03     A       507\n",
       "3  2019-08-04     A       717\n",
       "4  2019-08-05     A       756"
      ]
     },
     "execution_count": 9,
     "metadata": {},
     "output_type": "execute_result"
    }
   ],
   "source": [
    "visitors = pd.read_csv('/datasets/visitors.csv')\n",
    "visitors.head()"
   ]
  },
  {
   "cell_type": "markdown",
   "metadata": {},
   "source": [
    "Приведем тип данных в столбцах date в обоих датафреймах к типу datetime"
   ]
  },
  {
   "cell_type": "code",
   "execution_count": 10,
   "metadata": {},
   "outputs": [],
   "source": [
    "orders['date'] = orders['date'].map(\n",
    "    lambda x: dt.datetime.strptime(x, '%Y-%m-%d')\n",
    ")\n",
    "visitors['date'] = visitors['date'].map(\n",
    "    lambda x: dt.datetime.strptime(x, '%Y-%m-%d')\n",
    ")"
   ]
  },
  {
   "cell_type": "markdown",
   "metadata": {},
   "source": [
    "Посмотрим на распределение по группам"
   ]
  },
  {
   "cell_type": "code",
   "execution_count": 11,
   "metadata": {},
   "outputs": [
    {
     "name": "stdout",
     "output_type": "stream",
     "text": [
      "      transactionId   visitorId       date  revenue group\n",
      "0        3667963787  3312258926 2019-08-15     1650     B\n",
      "1        2804400009  3642806036 2019-08-15      730     B\n",
      "3        3797467345  1196621759 2019-08-15     9759     B\n",
      "4        2282983706  2322279887 2019-08-15     2308     B\n",
      "5         182168103   935554773 2019-08-15     2210     B\n",
      "...             ...         ...        ...      ...   ...\n",
      "1189     4082620617   393266494 2019-08-14    31550     B\n",
      "1190       38478481  1197745035 2019-08-14     8600     B\n",
      "1191     3592955527   608641596 2019-08-14    16490     B\n",
      "1192     2662137336  3733762160 2019-08-14     6490     B\n",
      "1196     3936777065  2108080724 2019-08-15   202740     B\n",
      "\n",
      "[640 rows x 5 columns]\n",
      "      transactionId   visitorId       date  revenue group\n",
      "2        2961555356  4069496402 2019-08-15      400     A\n",
      "7        2626614568    78758296 2019-08-15     1044     A\n",
      "8        1576988021   295230930 2019-08-15    13710     A\n",
      "10       3649131742   879864040 2019-08-15     4008     A\n",
      "12       2809384911  3213223594 2019-08-15     7370     A\n",
      "...             ...         ...        ...      ...   ...\n",
      "1187     2274188238   132143192 2019-08-14      750     A\n",
      "1188     1692103379  1022829655 2019-08-14      112     A\n",
      "1193     2203539145   370388673 2019-08-14     3190     A\n",
      "1194     1807773912   573423106 2019-08-14    10550     A\n",
      "1195     1947021204  1614305549 2019-08-14      100     A\n",
      "\n",
      "[557 rows x 5 columns]\n"
     ]
    },
    {
     "data": {
      "text/plain": [
       "58"
      ]
     },
     "execution_count": 11,
     "metadata": {},
     "output_type": "execute_result"
    }
   ],
   "source": [
    "# отбираем группы из данных с заказами \n",
    "group_a=orders.query('group == \"A\"') \n",
    "group_b=orders.query('group == \"B\"') \n",
    "print(group_b)\n",
    "print(group_a)\n",
    "# получаем id пользователей, попавших в обе группы \n",
    "thesamegroup=list(np.intersect1d(group_a['visitorId'], group_b['visitorId']))\n",
    "len(thesamegroup)"
   ]
  },
  {
   "cell_type": "markdown",
   "metadata": {},
   "source": [
    "У нас достаточно большие выборки по группам - 640 и 557 человек. 58 пользователей попали в обе группы , удалим их чтобы исследование было точнее."
   ]
  },
  {
   "cell_type": "code",
   "execution_count": 12,
   "metadata": {},
   "outputs": [],
   "source": [
    "orders = orders.query('visitorId not in @thesamegroup')"
   ]
  },
  {
   "cell_type": "markdown",
   "metadata": {},
   "source": [
    "**1. График кумулятивной выручки по группам**"
   ]
  },
  {
   "cell_type": "markdown",
   "metadata": {},
   "source": [
    "Чтобы построить график кумулятивной выручки по группам, необходимо собрать кумулятивные данные.\n",
    "Объявим датафрейм cumulativeData со столбцами: \n",
    "\n",
    "date — дата;\n",
    "\n",
    "group — группа A/B-теста;\n",
    "\n",
    "orders — кумулятивное количество заказов на указанную дату в указанной группе;\n",
    "\n",
    "buyers — кумулятивное количество пользователей, совершивших хотя бы один заказ, на указанную дату в указанной группе;\n",
    "\n",
    "revenue — кумулятивная выручка на указанную дату в указанной группе (средний чек);\n",
    "\n",
    "visitors — кумулятивное количество посетителей интернет-магазина на указанную дату в определённой группе."
   ]
  },
  {
   "cell_type": "code",
   "execution_count": 13,
   "metadata": {},
   "outputs": [],
   "source": [
    "# создаем массив уникальных пар значений дат и групп теста\n",
    "datesGroups = orders[['date','group']].drop_duplicates() "
   ]
  },
  {
   "cell_type": "code",
   "execution_count": 14,
   "metadata": {},
   "outputs": [],
   "source": [
    "# получим агрегированные кумулятивные по дням данные о заказах\n",
    "ordersAggregated = datesGroups.apply(\n",
    "    lambda x: orders[\n",
    "        np.logical_and(\n",
    "            orders['date'] <= x['date'], orders['group'] == x['group']\n",
    "        )\n",
    "    ].agg(\n",
    "        {\n",
    "            'date': 'max',\n",
    "            'group': 'max',\n",
    "            'transactionId': 'nunique',\n",
    "            'visitorId': 'nunique',\n",
    "            'revenue': 'sum',\n",
    "        }\n",
    "    ),\n",
    "    axis=1,\n",
    ").sort_values(by=['date', 'group'])"
   ]
  },
  {
   "cell_type": "code",
   "execution_count": 15,
   "metadata": {},
   "outputs": [],
   "source": [
    "# аналогично получим агрегированные кумулятивные по дням данные о посетителях интернет-магазина\n",
    "visitorsAggregated = datesGroups.apply(\n",
    "    lambda x: visitors[\n",
    "        np.logical_and(\n",
    "            visitors['date'] <= x['date'], visitors['group'] == x['group']\n",
    "        )\n",
    "    ].agg({'date': 'max', 'group': 'max', 'visitors': 'sum'}),\n",
    "    axis=1,\n",
    ").sort_values(by=['date', 'group'])"
   ]
  },
  {
   "cell_type": "code",
   "execution_count": 16,
   "metadata": {},
   "outputs": [
    {
     "name": "stdout",
     "output_type": "stream",
     "text": [
      "        date group  orders  buyers  revenue  visitors\n",
      "0 2019-08-01     A      23      19   142779       719\n",
      "1 2019-08-01     B      17      17    59758       713\n",
      "2 2019-08-02     A      42      36   234381      1338\n",
      "3 2019-08-02     B      40      39   221801      1294\n",
      "4 2019-08-03     A      66      60   346854      1845\n"
     ]
    }
   ],
   "source": [
    "# объединяем кумулятивные данные в одной таблице и присваиваем ее столбцам понятные названия\n",
    "cumulativeData = ordersAggregated.merge(visitorsAggregated, left_on=['date', 'group'], right_on=['date', 'group'])\n",
    "cumulativeData.columns = ['date', 'group', 'orders', 'buyers', 'revenue', 'visitors']\n",
    "\n",
    "print(cumulativeData.head(5)) "
   ]
  },
  {
   "cell_type": "markdown",
   "metadata": {},
   "source": [
    "Построим график кумулятивной выручки по дням и группам"
   ]
  },
  {
   "cell_type": "code",
   "execution_count": 17,
   "metadata": {},
   "outputs": [
    {
     "data": {
      "image/png": "[encoded data removed]",
      "text/plain": [
       "<Figure size 1008x504 with 1 Axes>"
      ]
     },
     "metadata": {
      "needs_background": "light"
     },
     "output_type": "display_data"
    }
   ],
   "source": [
    "import matplotlib.pyplot as plt\n",
    "plt.rcParams ['figure.figsize'] = [14, 7]\n",
    "\n",
    "# датафрейм с кумулятивным количеством заказов и кумулятивной выручкой по дням в группе А\n",
    "cumulativeRevenueA = cumulativeData[cumulativeData['group']=='A'][['date','revenue', 'orders']]\n",
    "\n",
    "# датафрейм с кумулятивным количеством заказов и кумулятивной выручкой по дням в группе B\n",
    "cumulativeRevenueB = cumulativeData[cumulativeData['group']=='B'][['date','revenue', 'orders']]\n",
    "\n",
    "# Строим график выручки группы А\n",
    "plt.plot(cumulativeRevenueA['date'], cumulativeRevenueA['revenue'], label='A')\n",
    "\n",
    "# Строим график выручки группы B\n",
    "plt.plot(cumulativeRevenueB['date'], cumulativeRevenueB['revenue'], label='B')\n",
    "plt.title('График кумулятивной выручки по группам')\n",
    "plt.ylabel('Выручка')\n",
    "plt.legend();\n"
   ]
  },
  {
   "cell_type": "markdown",
   "metadata": {},
   "source": [
    "Видим, что кумулятивная выручка в начале теста показывает близкие значения в обоих группах, после 17.08 \n",
    "у группы B наблюдается резкий всплеск, который может быть связан с резким увеличением количества заказов либо c появлением очень дорогих заказов в группе.\n",
    "После выброса значения выручки в обоих группах стабилизируются и  продолжают рост без выбросов."
   ]
  },
  {
   "cell_type": "markdown",
   "metadata": {},
   "source": [
    "**2. График кумулятивного среднего чека по группам**"
   ]
  },
  {
   "cell_type": "code",
   "execution_count": 18,
   "metadata": {},
   "outputs": [
    {
     "data": {
      "image/png": "[encoded data removed]",
      "text/plain": [
       "<Figure size 1008x504 with 1 Axes>"
      ]
     },
     "metadata": {
      "needs_background": "light"
     },
     "output_type": "display_data"
    }
   ],
   "source": [
    "# разделим кумулятивную выручку на кумулятивное число заказов в каждой группе и выведем график\n",
    "\n",
    "plt.plot(cumulativeRevenueA['date'], cumulativeRevenueA['revenue']/cumulativeRevenueA['orders'], label='A')\n",
    "\n",
    "\n",
    "plt.plot(cumulativeRevenueB['date'], cumulativeRevenueB['revenue']/cumulativeRevenueB['orders'], label='B')\n",
    "\n",
    "# размер шрифта по оси x\n",
    "plt.tick_params(axis='x', which='major', labelsize=11)\n",
    "\n",
    "plt.title('График кумулятивного среднего чека по группам')\n",
    "plt.ylabel('Кумулятивный cредний чек')\n",
    "plt.legend();\n"
   ]
  },
  {
   "cell_type": "markdown",
   "metadata": {},
   "source": [
    "Видим стабильный рост среднего чека в обеих группах до середины месяца, затем резкий всплеск значения среднего чека в группе В в районе 18.08 и плавное снижение, в группе А средний чек держится в коридоре во второй половине месяца, без значительного роста."
   ]
  },
  {
   "cell_type": "markdown",
   "metadata": {},
   "source": [
    "**3. График относительного изменения кумулятивного среднего чека группы B к группе A**"
   ]
  },
  {
   "cell_type": "code",
   "execution_count": 19,
   "metadata": {},
   "outputs": [
    {
     "data": {
      "image/png": "[encoded data removed]",
      "text/plain": [
       "<Figure size 1008x504 with 1 Axes>"
      ]
     },
     "metadata": {
      "needs_background": "light"
     },
     "output_type": "display_data"
    }
   ],
   "source": [
    "# собираем данные в одном датафрейме\n",
    "mergedCumulativeRevenue = cumulativeRevenueA.merge(cumulativeRevenueB, left_on='date', right_on='date', how='left', suffixes=['A', 'B'])\n",
    "\n",
    "# cтроим отношение средних чеков\n",
    "plt.plot(mergedCumulativeRevenue['date'], (mergedCumulativeRevenue['revenueB']/mergedCumulativeRevenue['ordersB'])/(mergedCumulativeRevenue['revenueA']/mergedCumulativeRevenue['ordersA'])-1)\n",
    "\n",
    "# добавляем ось X\n",
    "plt.axhline(y=0, color='black', linestyle='--')\n",
    "\n",
    "# размер шрифта по оси x\n",
    "plt.tick_params(axis='x', which='major', labelsize=11)\n",
    "\n",
    "plt.title('График относительного изменения кумулятивного среднего чека группы B к группе A')\n",
    "plt.ylabel('Кумулятивный cредний чек');"
   ]
  },
  {
   "cell_type": "markdown",
   "metadata": {},
   "source": [
    "График показывает что большую часть теста кумулятивный средний чек группы B выше относительно группы А, видим два больших всплеска значений в районе 06.08 и еще больший в районе 19.08, догадка о больших заказах и выбросах в группе В скорее всего верна, после выброса значение снижается и стремится выровниться."
   ]
  },
  {
   "cell_type": "markdown",
   "metadata": {},
   "source": [
    "**4. График кумулятивного среднего количества заказов на посетителя по группам**"
   ]
  },
  {
   "cell_type": "code",
   "execution_count": 20,
   "metadata": {},
   "outputs": [
    {
     "data": {
      "image/png": "[encoded data removed]",
      "text/plain": [
       "<Figure size 1008x504 with 1 Axes>"
      ]
     },
     "metadata": {
      "needs_background": "light"
     },
     "output_type": "display_data"
    }
   ],
   "source": [
    "# считаем кумулятивную конверсию\n",
    "cumulativeData['conversion'] = cumulativeData['orders']/cumulativeData['visitors']\n",
    "\n",
    "# отделяем данные по группе A\n",
    "cumulativeDataA = cumulativeData[cumulativeData['group']=='A']\n",
    "\n",
    "# отделяем данные по группе B\n",
    "cumulativeDataB = cumulativeData[cumulativeData['group']=='B']\n",
    "\n",
    "# строим графики\n",
    "plt.plot(cumulativeDataA['date'], cumulativeDataA['conversion'], label='A')\n",
    "plt.plot(cumulativeDataB['date'], cumulativeDataB['conversion'], label='B')\n",
    "plt.legend()\n",
    "\n",
    "# размер шрифта по оси x\n",
    "plt.tick_params(axis='x', which='major', labelsize=11)\n",
    "\n",
    "# задаем масштаб осей\n",
    "plt.axis([dt.datetime(2019, 8, 1), dt.datetime(2019, 9, 1), 0.020, 0.038])\n",
    "\n",
    "plt.title('График кумулятивной конверсии по группам')\n",
    "plt.ylabel('Кумулятивная конверсия');"
   ]
  },
  {
   "cell_type": "markdown",
   "metadata": {},
   "source": [
    "В начале теста наблюдаем заметные колебания в обеих группах, конверсия у группы А была больше группы B, но уже к концу первой недели теста конверсия группы В выросла, а группы А снизилась, после чего графики стабилизировались.\n",
    "К 12 августа различие в конверсии двух групп очевидно и уже показатели не меняются,- конверсия у группы В стабильно лучше по накопленным данным чем конверсия группе A."
   ]
  },
  {
   "cell_type": "markdown",
   "metadata": {},
   "source": [
    "5. График относительного изменения кумулятивного среднего количества заказов на посетителя (конверсии) группы B к группе A"
   ]
  },
  {
   "cell_type": "code",
   "execution_count": 21,
   "metadata": {},
   "outputs": [
    {
     "data": {
      "image/png": "[encoded data removed]",
      "text/plain": [
       "<Figure size 1008x504 with 1 Axes>"
      ]
     },
     "metadata": {
      "needs_background": "light"
     },
     "output_type": "display_data"
    }
   ],
   "source": [
    "mergedCumulativeConversions = cumulativeDataA[['date','conversion']].merge(cumulativeDataB[['date','conversion']], left_on='date', right_on='date', how='left', suffixes=['A', 'B'])\n",
    "\n",
    "plt.plot(mergedCumulativeConversions['date'], mergedCumulativeConversions['conversionB']/mergedCumulativeConversions['conversionA']-1)\n",
    "\n",
    "plt.axhline(y=0, color='red', linestyle='--')\n",
    "plt.axhline(y=0.12, color='green', linestyle='--')\n",
    "plt.axis([dt.datetime(2019, 8, 1), dt.datetime(2019, 9, 1), -0.3, 0.3])\n",
    "\n",
    "# размер шрифта по оси x\n",
    "plt.tick_params(axis='x', which='major', labelsize=11)\n",
    "\n",
    "plt.title('График относительного изменения кумулятивной конверсии группы B к группе A')\n",
    "plt.ylabel('Кумулятивная конверсия');\n"
   ]
  },
  {
   "cell_type": "markdown",
   "metadata": {},
   "source": [
    "В начале теста кумулятивная конверсия группа В меньше группы А, но уже с 6 августа вырвалась вперед и стабильно росла до 15.08-17.08, после видим плавное снижение, стабилизацию после 21.08 и в конце месяца заметный рост.\n",
    "\n",
    "Отношение конверсии на протяжении большей части теста движется в коридоре 12-20% в пользу B. На этом этапе не будем делать однозначный вывод что кумулятивная конверсия группы В лучше группы А, но выглядит интересно."
   ]
  },
  {
   "cell_type": "markdown",
   "metadata": {},
   "source": [
    "**6. Точечный график количества заказов по пользователям**"
   ]
  },
  {
   "cell_type": "code",
   "execution_count": 22,
   "metadata": {
    "scrolled": false
   },
   "outputs": [
    {
     "data": {
      "image/png": "[encoded data removed]",
      "text/plain": [
       "<Figure size 1008x504 with 1 Axes>"
      ]
     },
     "metadata": {
      "needs_background": "light"
     },
     "output_type": "display_data"
    }
   ],
   "source": [
    "ordersByUsers = (orders.groupby('visitorId', as_index=False).agg({'transactionId': pd.Series.nunique}))\n",
    "ordersByUsers.columns = ['visitorId', 'orders']\n",
    "# серия из чисел от 0 до количества наблюдений в ordersByUsers\n",
    "x_values = pd.Series(range(0, len(ordersByUsers)))\n",
    "plt.scatter(x_values, ordersByUsers['orders']);\n",
    "\n",
    "plt.title('Точечный график количества заказов по пользователям')\n",
    "plt.ylabel('Количество заказов');"
   ]
  },
  {
   "cell_type": "code",
   "execution_count": 23,
   "metadata": {},
   "outputs": [
    {
     "data": {
      "text/html": [
       "<div>\n",
       "<style scoped>\n",
       "    .dataframe tbody tr th:only-of-type {\n",
       "        vertical-align: middle;\n",
       "    }\n",
       "\n",
       "    .dataframe tbody tr th {\n",
       "        vertical-align: top;\n",
       "    }\n",
       "\n",
       "    .dataframe thead th {\n",
       "        text-align: right;\n",
       "    }\n",
       "</style>\n",
       "<table border=\"1\" class=\"dataframe\">\n",
       "  <thead>\n",
       "    <tr style=\"text-align: right;\">\n",
       "      <th></th>\n",
       "      <th>visitorId</th>\n",
       "      <th>orders</th>\n",
       "    </tr>\n",
       "  </thead>\n",
       "  <tbody>\n",
       "    <tr>\n",
       "      <th>908</th>\n",
       "      <td>3967698036</td>\n",
       "      <td>3</td>\n",
       "    </tr>\n",
       "    <tr>\n",
       "      <th>55</th>\n",
       "      <td>249864742</td>\n",
       "      <td>3</td>\n",
       "    </tr>\n",
       "    <tr>\n",
       "      <th>478</th>\n",
       "      <td>2108163459</td>\n",
       "      <td>3</td>\n",
       "    </tr>\n",
       "    <tr>\n",
       "      <th>687</th>\n",
       "      <td>2988190573</td>\n",
       "      <td>3</td>\n",
       "    </tr>\n",
       "    <tr>\n",
       "      <th>890</th>\n",
       "      <td>3908431265</td>\n",
       "      <td>3</td>\n",
       "    </tr>\n",
       "    <tr>\n",
       "      <th>138</th>\n",
       "      <td>611059232</td>\n",
       "      <td>3</td>\n",
       "    </tr>\n",
       "    <tr>\n",
       "      <th>632</th>\n",
       "      <td>2742574263</td>\n",
       "      <td>3</td>\n",
       "    </tr>\n",
       "    <tr>\n",
       "      <th>157</th>\n",
       "      <td>678354126</td>\n",
       "      <td>2</td>\n",
       "    </tr>\n",
       "    <tr>\n",
       "      <th>323</th>\n",
       "      <td>1404560065</td>\n",
       "      <td>2</td>\n",
       "    </tr>\n",
       "    <tr>\n",
       "      <th>452</th>\n",
       "      <td>1985475298</td>\n",
       "      <td>2</td>\n",
       "    </tr>\n",
       "    <tr>\n",
       "      <th>118</th>\n",
       "      <td>522292794</td>\n",
       "      <td>2</td>\n",
       "    </tr>\n",
       "    <tr>\n",
       "      <th>628</th>\n",
       "      <td>2733145037</td>\n",
       "      <td>2</td>\n",
       "    </tr>\n",
       "    <tr>\n",
       "      <th>634</th>\n",
       "      <td>2744017357</td>\n",
       "      <td>2</td>\n",
       "    </tr>\n",
       "    <tr>\n",
       "      <th>407</th>\n",
       "      <td>1772171838</td>\n",
       "      <td>2</td>\n",
       "    </tr>\n",
       "    <tr>\n",
       "      <th>548</th>\n",
       "      <td>2397843657</td>\n",
       "      <td>2</td>\n",
       "    </tr>\n",
       "  </tbody>\n",
       "</table>\n",
       "</div>"
      ],
      "text/plain": [
       "      visitorId  orders\n",
       "908  3967698036       3\n",
       "55    249864742       3\n",
       "478  2108163459       3\n",
       "687  2988190573       3\n",
       "890  3908431265       3\n",
       "138   611059232       3\n",
       "632  2742574263       3\n",
       "157   678354126       2\n",
       "323  1404560065       2\n",
       "452  1985475298       2\n",
       "118   522292794       2\n",
       "628  2733145037       2\n",
       "634  2744017357       2\n",
       "407  1772171838       2\n",
       "548  2397843657       2"
      ]
     },
     "execution_count": 23,
     "metadata": {},
     "output_type": "execute_result"
    }
   ],
   "source": [
    "ordersByUsers.sort_values(by='orders', ascending=False).head(15)"
   ]
  },
  {
   "cell_type": "code",
   "execution_count": 24,
   "metadata": {},
   "outputs": [
    {
     "data": {
      "text/html": [
       "<div>\n",
       "<style scoped>\n",
       "    .dataframe tbody tr th:only-of-type {\n",
       "        vertical-align: middle;\n",
       "    }\n",
       "\n",
       "    .dataframe tbody tr th {\n",
       "        vertical-align: top;\n",
       "    }\n",
       "\n",
       "    .dataframe thead th {\n",
       "        text-align: right;\n",
       "    }\n",
       "</style>\n",
       "<table border=\"1\" class=\"dataframe\">\n",
       "  <thead>\n",
       "    <tr style=\"text-align: right;\">\n",
       "      <th></th>\n",
       "      <th>visitorId</th>\n",
       "      <th>orders</th>\n",
       "    </tr>\n",
       "  </thead>\n",
       "  <tbody>\n",
       "    <tr>\n",
       "      <th>count</th>\n",
       "      <td>9.730000e+02</td>\n",
       "      <td>973.000000</td>\n",
       "    </tr>\n",
       "    <tr>\n",
       "      <th>mean</th>\n",
       "      <td>2.118387e+09</td>\n",
       "      <td>1.044193</td>\n",
       "    </tr>\n",
       "    <tr>\n",
       "      <th>std</th>\n",
       "      <td>1.221446e+09</td>\n",
       "      <td>0.238090</td>\n",
       "    </tr>\n",
       "    <tr>\n",
       "      <th>min</th>\n",
       "      <td>5.114589e+06</td>\n",
       "      <td>1.000000</td>\n",
       "    </tr>\n",
       "    <tr>\n",
       "      <th>25%</th>\n",
       "      <td>1.028756e+09</td>\n",
       "      <td>1.000000</td>\n",
       "    </tr>\n",
       "    <tr>\n",
       "      <th>50%</th>\n",
       "      <td>2.138109e+09</td>\n",
       "      <td>1.000000</td>\n",
       "    </tr>\n",
       "    <tr>\n",
       "      <th>75%</th>\n",
       "      <td>3.141508e+09</td>\n",
       "      <td>1.000000</td>\n",
       "    </tr>\n",
       "    <tr>\n",
       "      <th>max</th>\n",
       "      <td>4.283872e+09</td>\n",
       "      <td>3.000000</td>\n",
       "    </tr>\n",
       "  </tbody>\n",
       "</table>\n",
       "</div>"
      ],
      "text/plain": [
       "          visitorId      orders\n",
       "count  9.730000e+02  973.000000\n",
       "mean   2.118387e+09    1.044193\n",
       "std    1.221446e+09    0.238090\n",
       "min    5.114589e+06    1.000000\n",
       "25%    1.028756e+09    1.000000\n",
       "50%    2.138109e+09    1.000000\n",
       "75%    3.141508e+09    1.000000\n",
       "max    4.283872e+09    3.000000"
      ]
     },
     "execution_count": 24,
     "metadata": {},
     "output_type": "execute_result"
    }
   ],
   "source": [
    "ordersByUsers.describe()"
   ]
  },
  {
   "cell_type": "markdown",
   "metadata": {},
   "source": [
    "Большинство пользователей совершали один заказ, редко два заказа и еще реже три, больше трех похоже на выбросы, для дальнейшего исследования наличия аномальных выбросов мы можем посчитать выборочные перцентили количества заказов на одного пользователя."
   ]
  },
  {
   "cell_type": "markdown",
   "metadata": {},
   "source": [
    "**7.Посчитаем 95-й и 99-й перцентили количества заказов на пользователя. Выберем границу для определения аномальных пользователей.**\n"
   ]
  },
  {
   "cell_type": "code",
   "execution_count": 25,
   "metadata": {},
   "outputs": [
    {
     "name": "stdout",
     "output_type": "stream",
     "text": [
      "[1. 2.]\n"
     ]
    }
   ],
   "source": [
    "print(np.percentile(ordersByUsers['orders'], [95, 99]))"
   ]
  },
  {
   "cell_type": "markdown",
   "metadata": {},
   "source": [
    "Не больше 5% пользователей оформляли больше одного заказов и не более 1% пользователей - больше 2 заказов. Определим 1 заказа на одного пользователя за нижнюю границу нормального распределения."
   ]
  },
  {
   "cell_type": "markdown",
   "metadata": {},
   "source": [
    "**8. Построим точечный график стоимостей заказов**"
   ]
  },
  {
   "cell_type": "code",
   "execution_count": 26,
   "metadata": {},
   "outputs": [
    {
     "data": {
      "text/html": [
       "<div>\n",
       "<style scoped>\n",
       "    .dataframe tbody tr th:only-of-type {\n",
       "        vertical-align: middle;\n",
       "    }\n",
       "\n",
       "    .dataframe tbody tr th {\n",
       "        vertical-align: top;\n",
       "    }\n",
       "\n",
       "    .dataframe thead th {\n",
       "        text-align: right;\n",
       "    }\n",
       "</style>\n",
       "<table border=\"1\" class=\"dataframe\">\n",
       "  <thead>\n",
       "    <tr style=\"text-align: right;\">\n",
       "      <th></th>\n",
       "      <th>transactionId</th>\n",
       "      <th>visitorId</th>\n",
       "      <th>date</th>\n",
       "      <th>revenue</th>\n",
       "      <th>group</th>\n",
       "    </tr>\n",
       "  </thead>\n",
       "  <tbody>\n",
       "    <tr>\n",
       "      <th>425</th>\n",
       "      <td>590470918</td>\n",
       "      <td>1920142716</td>\n",
       "      <td>2019-08-19</td>\n",
       "      <td>1294500</td>\n",
       "      <td>B</td>\n",
       "    </tr>\n",
       "    <tr>\n",
       "      <th>1196</th>\n",
       "      <td>3936777065</td>\n",
       "      <td>2108080724</td>\n",
       "      <td>2019-08-15</td>\n",
       "      <td>202740</td>\n",
       "      <td>B</td>\n",
       "    </tr>\n",
       "    <tr>\n",
       "      <th>1136</th>\n",
       "      <td>666610489</td>\n",
       "      <td>1307669133</td>\n",
       "      <td>2019-08-13</td>\n",
       "      <td>92550</td>\n",
       "      <td>A</td>\n",
       "    </tr>\n",
       "    <tr>\n",
       "      <th>744</th>\n",
       "      <td>3668308183</td>\n",
       "      <td>888512513</td>\n",
       "      <td>2019-08-27</td>\n",
       "      <td>86620</td>\n",
       "      <td>B</td>\n",
       "    </tr>\n",
       "    <tr>\n",
       "      <th>743</th>\n",
       "      <td>3603576309</td>\n",
       "      <td>4133034833</td>\n",
       "      <td>2019-08-09</td>\n",
       "      <td>67990</td>\n",
       "      <td>A</td>\n",
       "    </tr>\n",
       "    <tr>\n",
       "      <th>1103</th>\n",
       "      <td>1348774318</td>\n",
       "      <td>1164614297</td>\n",
       "      <td>2019-08-12</td>\n",
       "      <td>66350</td>\n",
       "      <td>A</td>\n",
       "    </tr>\n",
       "    <tr>\n",
       "      <th>1099</th>\n",
       "      <td>316924019</td>\n",
       "      <td>148427295</td>\n",
       "      <td>2019-08-12</td>\n",
       "      <td>65710</td>\n",
       "      <td>A</td>\n",
       "    </tr>\n",
       "    <tr>\n",
       "      <th>949</th>\n",
       "      <td>1347999392</td>\n",
       "      <td>887908475</td>\n",
       "      <td>2019-08-21</td>\n",
       "      <td>60450</td>\n",
       "      <td>A</td>\n",
       "    </tr>\n",
       "    <tr>\n",
       "      <th>940</th>\n",
       "      <td>2420050534</td>\n",
       "      <td>4003628586</td>\n",
       "      <td>2019-08-08</td>\n",
       "      <td>58550</td>\n",
       "      <td>B</td>\n",
       "    </tr>\n",
       "    <tr>\n",
       "      <th>131</th>\n",
       "      <td>3163614039</td>\n",
       "      <td>2254586615</td>\n",
       "      <td>2019-08-22</td>\n",
       "      <td>53904</td>\n",
       "      <td>A</td>\n",
       "    </tr>\n",
       "  </tbody>\n",
       "</table>\n",
       "</div>"
      ],
      "text/plain": [
       "      transactionId   visitorId       date  revenue group\n",
       "425       590470918  1920142716 2019-08-19  1294500     B\n",
       "1196     3936777065  2108080724 2019-08-15   202740     B\n",
       "1136      666610489  1307669133 2019-08-13    92550     A\n",
       "744      3668308183   888512513 2019-08-27    86620     B\n",
       "743      3603576309  4133034833 2019-08-09    67990     A\n",
       "1103     1348774318  1164614297 2019-08-12    66350     A\n",
       "1099      316924019   148427295 2019-08-12    65710     A\n",
       "949      1347999392   887908475 2019-08-21    60450     A\n",
       "940      2420050534  4003628586 2019-08-08    58550     B\n",
       "131      3163614039  2254586615 2019-08-22    53904     A"
      ]
     },
     "execution_count": 26,
     "metadata": {},
     "output_type": "execute_result"
    }
   ],
   "source": [
    "orders.sort_values(by='revenue', ascending=False).head(10)"
   ]
  },
  {
   "cell_type": "code",
   "execution_count": 37,
   "metadata": {},
   "outputs": [
    {
     "data": {
      "image/png": "[encoded data removed]",
      "text/plain": [
       "<Figure size 1008x504 with 1 Axes>"
      ]
     },
     "metadata": {
      "needs_background": "light"
     },
     "output_type": "display_data"
    }
   ],
   "source": [
    "x_values = pd.Series(range(0, len(orders['revenue'])))\n",
    "plt.scatter(x_values, orders['revenue']);\n",
    "plt.title('Точечный график стоимостей заказов')\n",
    "plt.ylabel('Стоимость заказа в млн.');"
   ]
  },
  {
   "cell_type": "markdown",
   "metadata": {},
   "source": [
    "Видим два больших заказа в верху списка - на 1 294 500 и 202 740 в группе В, все остальные заказы не превышают 100 тысяч."
   ]
  },
  {
   "cell_type": "markdown",
   "metadata": {},
   "source": [
    "Посмотрим на график стоимостей заказов без двух крупных выбросов по группам"
   ]
  },
  {
   "cell_type": "code",
   "execution_count": 55,
   "metadata": {},
   "outputs": [
    {
     "data": {
      "image/png": "[encoded data removed]",
      "text/plain": [
       "<Figure size 1008x504 with 1 Axes>"
      ]
     },
     "metadata": {
      "needs_background": "light"
     },
     "output_type": "display_data"
    }
   ],
   "source": [
    "orders_new = orders.query('revenue <= 100000')\n",
    "sns.scatterplot(data=orders_new, x = pd.Series(range(0, len(orders_new['revenue']))),y=\"revenue\", hue=\"group\");"
   ]
  },
  {
   "cell_type": "markdown",
   "metadata": {},
   "source": [
    "**9. Посчитаем 95-й и 99-й перцентили стоимости заказов. Выберем границу для определения аномальных заказов.**"
   ]
  },
  {
   "cell_type": "code",
   "execution_count": 28,
   "metadata": {},
   "outputs": [
    {
     "name": "stdout",
     "output_type": "stream",
     "text": [
      "[26785. 53904.]\n"
     ]
    }
   ],
   "source": [
    "print(np.percentile(orders['revenue'], [95, 99]))"
   ]
  },
  {
   "cell_type": "markdown",
   "metadata": {},
   "source": [
    "Не больше 5% заказов совершались на сумму более 27 000 и не более 1% на сумму 54 000, определим границу в 27000 для отсечения аномальных заказов."
   ]
  },
  {
   "cell_type": "markdown",
   "metadata": {},
   "source": [
    "**10. Посчитаем статистическую значимость различий в среднем количестве заказов на посетителя между группами по «сырым» данным.**"
   ]
  },
  {
   "cell_type": "markdown",
   "metadata": {},
   "source": [
    "Применим тест U-критерий Манна — Уитни, который проранжирует две выборки по порядку от меньшего к большему и сравнит ранги одних и тех же значений, попавших в обе выборки, оценит сумму рангов нетипичных сдвигов."
   ]
  },
  {
   "cell_type": "markdown",
   "metadata": {},
   "source": [
    "H0:Конверсии групп A и B равны, статистически значимых отличий нет \n",
    "\n",
    "H1:Конверсии групп A и B различны, статистически значимые отличия есть"
   ]
  },
  {
   "cell_type": "code",
   "execution_count": 29,
   "metadata": {},
   "outputs": [],
   "source": [
    "visitorsADaily = visitors[visitors['group'] == 'A'][['date', 'visitors']]\n",
    "visitorsADaily.columns = ['date', 'visitorsPerDateA']\n",
    "\n",
    "visitorsACummulative = visitorsADaily.apply(\n",
    "    lambda x: visitorsADaily[visitorsADaily['date'] <= x['date']].agg(\n",
    "        {'date': 'max', 'visitorsPerDateA': 'sum'}\n",
    "    ),\n",
    "    axis=1,\n",
    ")\n",
    "visitorsACummulative.columns = ['date', 'visitorsCummulativeA']\n",
    "\n",
    "visitorsBDaily = visitors[visitors['group'] == 'B'][['date', 'visitors']]\n",
    "visitorsBDaily.columns = ['date', 'visitorsPerDateB']\n",
    "\n",
    "visitorsBCummulative = visitorsBDaily.apply(\n",
    "    lambda x: visitorsBDaily[visitorsBDaily['date'] <= x['date']].agg(\n",
    "        {'date': 'max', 'visitorsPerDateB': 'sum'}\n",
    "    ),\n",
    "    axis=1,\n",
    ")\n",
    "visitorsBCummulative.columns = ['date', 'visitorsCummulativeB']\n",
    "\n",
    "ordersADaily = (\n",
    "    orders[orders['group'] == 'A'][['date', 'transactionId', 'visitorId', 'revenue']]\n",
    "    .groupby('date', as_index=False)\n",
    "    .agg({'transactionId': pd.Series.nunique, 'revenue': 'sum'})\n",
    ")\n",
    "ordersADaily.columns = ['date', 'ordersPerDateA', 'revenuePerDateA']\n",
    "\n",
    "ordersACummulative = ordersADaily.apply(\n",
    "    lambda x: ordersADaily[ordersADaily['date'] <= x['date']].agg(\n",
    "        {'date': 'max', 'ordersPerDateA': 'sum', 'revenuePerDateA': 'sum'}\n",
    "    ),\n",
    "    axis=1,\n",
    ").sort_values(by=['date'])\n",
    "ordersACummulative.columns = [\n",
    "    'date',\n",
    "    'ordersCummulativeA',\n",
    "    'revenueCummulativeA',\n",
    "]\n",
    "\n",
    "ordersBDaily = (\n",
    "    orders[orders['group'] == 'B'][['date', 'transactionId', 'visitorId', 'revenue']]\n",
    "    .groupby('date', as_index=False)\n",
    "    .agg({'transactionId': pd.Series.nunique, 'revenue': 'sum'})\n",
    ")\n",
    "ordersBDaily.columns = ['date', 'ordersPerDateB', 'revenuePerDateB']\n",
    "\n",
    "ordersBCummulative = ordersBDaily.apply(\n",
    "    lambda x: ordersBDaily[ordersBDaily['date'] <= x['date']].agg(\n",
    "        {'date': 'max', 'ordersPerDateB': 'sum', 'revenuePerDateB': 'sum'}\n",
    "    ),\n",
    "    axis=1,\n",
    ").sort_values(by=['date'])\n",
    "ordersBCummulative.columns = [\n",
    "    'date',\n",
    "    'ordersCummulativeB',\n",
    "    'revenueCummulativeB',\n",
    "]\n",
    "\n",
    "data = (\n",
    "    ordersADaily.merge(\n",
    "        ordersBDaily, left_on='date', right_on='date', how='left'\n",
    "    )\n",
    "    .merge(ordersACummulative, left_on='date', right_on='date', how='left')\n",
    "    .merge(ordersBCummulative, left_on='date', right_on='date', how='left')\n",
    "    .merge(visitorsADaily, left_on='date', right_on='date', how='left')\n",
    "    .merge(visitorsBDaily, left_on='date', right_on='date', how='left')\n",
    "    .merge(visitorsACummulative, left_on='date', right_on='date', how='left')\n",
    "    .merge(visitorsBCummulative, left_on='date', right_on='date', how='left')\n",
    ")\n",
    "\n",
    "# для пользователей, совершивших хотя бы 1 заказ, будет указано число заказов\n",
    "ordersByUsersA = (\n",
    "    orders[orders['group'] == 'A']\n",
    "    .groupby('visitorId', as_index=False)\n",
    "    .agg({'transactionId': pd.Series.nunique})\n",
    ")\n",
    "ordersByUsersA.columns = ['userId', 'orders']\n",
    "\n",
    "ordersByUsersB = (\n",
    "    orders[orders['group'] == 'B']\n",
    "    .groupby('visitorId', as_index=False)\n",
    "    .agg({'transactionId': pd.Series.nunique})\n",
    ")\n",
    "ordersByUsersB.columns = ['userId', 'orders'] \n",
    "\n",
    "# пользователям с заказами будет соответствовать число заказов пользователя, а пользователям без заказов — нули\n",
    "sampleA = pd.concat([ordersByUsersA['orders'],pd.Series(0, index=np.arange(data['visitorsPerDateA'].sum() - len(ordersByUsersA['orders'])), name='orders')],axis=0)\n",
    "\n",
    "sampleB = pd.concat([ordersByUsersB['orders'],pd.Series(0, index=np.arange(data['visitorsPerDateB'].sum() - len(ordersByUsersB['orders'])), name='orders')],axis=0)\n",
    "\n"
   ]
  },
  {
   "cell_type": "code",
   "execution_count": 30,
   "metadata": {},
   "outputs": [
    {
     "name": "stdout",
     "output_type": "stream",
     "text": [
      "P-значение: 0.011018084110014696\n",
      "Pазница между группами: 0.16\n"
     ]
    }
   ],
   "source": [
    "# зададим уровень значимости 5%\n",
    "alpha=0.05\n",
    "\n",
    "print('P-значение:',stats.mannwhitneyu(sampleA, sampleB)[1])\n",
    "\n",
    "print('Pазница между группами:',\"{0:.2f}\".format(sampleB.mean() / sampleA.mean() - 1))"
   ]
  },
  {
   "cell_type": "markdown",
   "metadata": {},
   "source": [
    "Вывод о статистической значимости различий конверсии между группами по сырым данным: \n",
    "\n",
    "Первое число — p-value = 0.011 меньше 0.05. Значит, нулевую гипотезу о том, что конверсии равны и статистически значимых различий в конверсии между группами нет **отвергаем**. \n",
    "Относительное отставание группы A составляет 16%."
   ]
  },
  {
   "cell_type": "markdown",
   "metadata": {},
   "source": [
    "**11.Посчитаем статистическую значимость различий в среднем чеке заказа между группами по «сырым» данным.**"
   ]
  },
  {
   "cell_type": "markdown",
   "metadata": {},
   "source": [
    "H0:Средние чеки групп A и B равны, статистически значимых отличий нет \n",
    "\n",
    "H1:Средние чеки групп A и B различны, статистически значимые отличия есть"
   ]
  },
  {
   "cell_type": "code",
   "execution_count": 31,
   "metadata": {},
   "outputs": [
    {
     "name": "stdout",
     "output_type": "stream",
     "text": [
      "P-значение: 0.829\n",
      "Pазница между группами: 0.29\n"
     ]
    }
   ],
   "source": [
    "# зададим уровень значимости 5%\n",
    "alpha=0.05\n",
    "print('P-значение:','{0:.3f}'.format(stats.mannwhitneyu(orders[orders['group']=='A']['revenue'], orders[orders['group']=='B']['revenue'])[1]))\n",
    "print('Pазница между группами:','{0:.2f}'.format(orders[orders['group']=='B']['revenue'].mean()/orders[orders['group']=='A']['revenue'].mean()-1))\n"
   ]
  },
  {
   "cell_type": "markdown",
   "metadata": {},
   "source": [
    "Первое число — p-value = 0.829 значительно больше 0.05. Значит, нулевую гипотезу о том, что средние чеки равны и статистически значимых различий между группами в размере среднего чека нет **принимаем**.\n",
    "\n",
    "Средний чек группы B значительно выше чем у группы А на 29%, мы помним что в группе B были аномально крупные заказы, интересно будет проверить результаты на очищенных данных."
   ]
  },
  {
   "cell_type": "markdown",
   "metadata": {},
   "source": [
    "**12.Посчитаем статистическую значимость различий в среднем количестве заказов на посетителя между группами по «очищенным» данным.**"
   ]
  },
  {
   "cell_type": "markdown",
   "metadata": {},
   "source": [
    "Мы определили ранее, что аномальные пользователи  те, кто совершил более 1 заказа или совершил заказ дороже 27 000 рублей. Сделаем срезы пользователей с числом заказов больше 1 — usersWithManyOrders и пользователей, совершивших заказы дороже 27 000 — usersWithExpensiveOrders. Объединим их в таблице abnormalUsers."
   ]
  },
  {
   "cell_type": "code",
   "execution_count": 32,
   "metadata": {},
   "outputs": [
    {
     "name": "stdout",
     "output_type": "stream",
     "text": [
      "568     113298937\n",
      "1099    148427295\n",
      "928     204675465\n",
      "33      249864742\n",
      "684     358944393\n",
      "dtype: int64\n",
      "86\n"
     ]
    }
   ],
   "source": [
    "max_order = int(np.percentile(ordersByUsers['orders'], [95]))\n",
    "max_revenue = int(np.percentile(orders['revenue'], [95]))\n",
    "usersWithManyOrders = pd.concat(\n",
    "    [\n",
    "        ordersByUsersA[ordersByUsersA['orders'] > max_order]['userId'],\n",
    "        ordersByUsersB[ordersByUsersB['orders'] > max_order]['userId'],\n",
    "    ],\n",
    "    axis=0,\n",
    ")\n",
    "usersWithExpensiveOrders = orders[orders['revenue'] > max_revenue]['visitorId']\n",
    "abnormalUsers = (\n",
    "    pd.concat([usersWithManyOrders, usersWithExpensiveOrders], axis=0)\n",
    "    .drop_duplicates()\n",
    "    .sort_values()\n",
    ")\n",
    "print(abnormalUsers.head(5))\n",
    "print(abnormalUsers.shape[0])"
   ]
  },
  {
   "cell_type": "markdown",
   "metadata": {},
   "source": [
    "Получили 86 аномальных пользователей. Посмотри на результаты по очищенным данным."
   ]
  },
  {
   "cell_type": "markdown",
   "metadata": {},
   "source": [
    "Посчитаем статистическую значимость различий в конверсии между группами теста по очищенным данным. \n",
    "\n",
    "**H0:Конверсии групп A и B равны, статистически значимых отличий нет**\n",
    "\n",
    "H1:Конверсии групп A и B различны, статистически значимые отличия есть \n",
    "\n"
   ]
  },
  {
   "cell_type": "code",
   "execution_count": 33,
   "metadata": {},
   "outputs": [],
   "source": [
    "#подготовим выборки количества заказов на одного пользователя по обеим группам\n",
    "sampleAFiltered = pd.concat(\n",
    "    [\n",
    "        ordersByUsersA[\n",
    "            np.logical_not(ordersByUsersA['userId'].isin(abnormalUsers))\n",
    "        ]['orders'],\n",
    "        pd.Series(\n",
    "            0,\n",
    "            index=np.arange(\n",
    "                data['visitorsPerDateA'].sum() - len(ordersByUsersA['orders'])\n",
    "            ),\n",
    "            name='orders',\n",
    "        ),\n",
    "    ],\n",
    "    axis=0,\n",
    ")\n",
    "\n",
    "sampleBFiltered = pd.concat(\n",
    "    [\n",
    "        ordersByUsersB[\n",
    "            np.logical_not(ordersByUsersB['userId'].isin(abnormalUsers))\n",
    "        ]['orders'],\n",
    "        pd.Series(\n",
    "            0,\n",
    "            index=np.arange(\n",
    "                data['visitorsPerDateB'].sum() - len(ordersByUsersB['orders'])\n",
    "            ),\n",
    "            name='orders',\n",
    "        ),\n",
    "    ],\n",
    "    axis=0,\n",
    ")"
   ]
  },
  {
   "cell_type": "markdown",
   "metadata": {},
   "source": [
    "Применим тест U-критерий Манна — Уитни"
   ]
  },
  {
   "cell_type": "code",
   "execution_count": 34,
   "metadata": {},
   "outputs": [
    {
     "name": "stdout",
     "output_type": "stream",
     "text": [
      "0.016\n",
      "0.17\n"
     ]
    }
   ],
   "source": [
    "# зададим уровень значимости 5%\n",
    "alpha=0.05\n",
    "print('{0:.3f}'.format(stats.mannwhitneyu(sampleAFiltered, sampleBFiltered)[1]))\n",
    "print('{0:.2f}'.format(sampleBFiltered.mean()/sampleAFiltered.mean()-1))"
   ]
  },
  {
   "cell_type": "markdown",
   "metadata": {},
   "source": [
    "Результаты по конверсии сильно не изменились. p-value стал чуть больше, предыдущий вывод не меняется, статистически значисые различия между конверсиями двух групп есть. Отставание группы A на очищенных данных немного увеличился: 17% против 16% на сырых."
   ]
  },
  {
   "cell_type": "markdown",
   "metadata": {},
   "source": [
    "**13.Посчитаем статистическую значимость различий в среднем чеке заказа между группами по «очищенным» данным.**"
   ]
  },
  {
   "cell_type": "markdown",
   "metadata": {},
   "source": [
    "**H0:Средние чеки групп A и B равны, статистически значимых отличий нет** \n",
    "\n",
    "H1:Средние чеки групп A и B различны, статистически значимые отличия есть \n"
   ]
  },
  {
   "cell_type": "code",
   "execution_count": 35,
   "metadata": {},
   "outputs": [
    {
     "name": "stdout",
     "output_type": "stream",
     "text": [
      "0.727\n",
      "-0.03\n"
     ]
    }
   ],
   "source": [
    "print(\n",
    "    '{0:.3f}'.format(\n",
    "        stats.mannwhitneyu(\n",
    "            orders[\n",
    "                np.logical_and(\n",
    "                    orders['group'] == 'A',\n",
    "                    np.logical_not(orders['visitorId'].isin(abnormalUsers)),\n",
    "                )\n",
    "            ]['revenue'],\n",
    "            orders[\n",
    "                np.logical_and(\n",
    "                    orders['group'] == 'B',\n",
    "                    np.logical_not(orders['visitorId'].isin(abnormalUsers)),\n",
    "                )\n",
    "            ]['revenue'],\n",
    "        )[1]\n",
    "    )\n",
    ")\n",
    "\n",
    "print(\n",
    "    \"{0:.2f}\".format(\n",
    "        orders[\n",
    "            np.logical_and(\n",
    "                orders['group'] == 'B',\n",
    "                np.logical_not(orders['visitorId'].isin(abnormalUsers)),\n",
    "            )\n",
    "        ]['revenue'].mean()\n",
    "        / orders[\n",
    "            np.logical_and(\n",
    "                orders['group'] == 'A',\n",
    "                np.logical_not(orders['visitorId'].isin(abnormalUsers)),\n",
    "            )\n",
    "        ]['revenue'].mean()\n",
    "        - 1\n",
    "    )\n",
    ")"
   ]
  },
  {
   "cell_type": "markdown",
   "metadata": {},
   "source": [
    "Видим, что p-value немного уменьшился, но по прежнему значительно выше 0,05. \n",
    "Разница среднего чека по группам сильно изменилась - она упала с 29% в пользу B до 3% в пользу группы A! Это подтверждает, что статистически значимых различий среднего чека между группами нет, а наблюдаемая на неочищенных данных большая разница ожидаемо связана с выбросами. \n",
    "\n",
    "Критерий Манна-Уитни ранговый поэтому он устойчив к выбросам. Это означает, что данные ранжируются, выброс будет просто распознаваться как случай, который ранжируется на единицу выше (или ниже) следующего наблюдения, поэтому сильного влияния на p-value выбросы не оказывают."
   ]
  },
  {
   "cell_type": "markdown",
   "metadata": {},
   "source": [
    "**14. Выводы и решения по результатам теста**"
   ]
  },
  {
   "cell_type": "markdown",
   "metadata": {},
   "source": [
    "Мы исключали 58 человек, попавших в обе группы для исследования.\n",
    "\n",
    "Исследование показало аномальные выбросы в группе В.\n",
    "\n",
    "График различия кумулятивной конверсии двух групп показал, что результаты группы B лучше группы A почти на протяжении всего теста и есть тенденция к еще большей разнице.\n",
    "\n",
    "График различий кумулятивного среднего чека показал преимущество группы B, отметили несколько резких всплесков, после чего метрика начала снижаться и стремится выровниться.\n",
    "\n",
    "Есть статистически значимые различия по конверсии между группами (как по сырым так и по очищенным данным), при этом преимущество у группы B в районе 16-17%.\n",
    "\n",
    "Нет статистически значимых различий по среднему чеку между группами (как по сырым так и по очищенным данным).Очищенные от аномальных выбросов данные убрали преимущество группы В.\n",
    "\n",
    "Исходя из вышесказанного тест следует остановить и признать его успешным в части улучшения конверсии в целевой группе B. В части среднего чека нельзя утверждать, что какая - либо из групп имеет большое преимущество над другой. Оснований полагать, что при продолжении теста разница между группами в конверсиях либо разница  среднего чека значительно изменится нет, имели место редкие аномальные выбросы, которые и объяснили резкие колебания на графиках."
   ]
  }
 ],
 "metadata": {
  "ExecuteTimeLog": [
   {
    "duration": 1512,
    "start_time": "2023-05-08T10:42:01.285Z"
   },
   {
    "duration": 66,
    "start_time": "2023-05-08T11:37:19.523Z"
   },
   {
    "duration": 3,
    "start_time": "2023-05-08T11:45:40.814Z"
   },
   {
    "duration": 6,
    "start_time": "2023-05-08T11:54:55.777Z"
   },
   {
    "duration": 11,
    "start_time": "2023-05-08T11:55:11.542Z"
   },
   {
    "duration": 9,
    "start_time": "2023-05-08T11:56:27.612Z"
   },
   {
    "duration": 11,
    "start_time": "2023-05-08T12:26:29.406Z"
   },
   {
    "duration": 13,
    "start_time": "2023-05-08T12:30:24.229Z"
   },
   {
    "duration": 16,
    "start_time": "2023-05-08T14:33:06.523Z"
   },
   {
    "duration": 51,
    "start_time": "2023-05-09T06:55:57.861Z"
   },
   {
    "duration": 48,
    "start_time": "2023-05-09T06:56:12.719Z"
   },
   {
    "duration": 1322,
    "start_time": "2023-05-09T06:56:25.446Z"
   },
   {
    "duration": 94,
    "start_time": "2023-05-09T06:56:26.771Z"
   },
   {
    "duration": 4,
    "start_time": "2023-05-09T06:56:26.866Z"
   },
   {
    "duration": 49,
    "start_time": "2023-05-09T06:56:26.872Z"
   },
   {
    "duration": 0,
    "start_time": "2023-05-09T06:56:26.922Z"
   },
   {
    "duration": 0,
    "start_time": "2023-05-09T06:56:26.923Z"
   },
   {
    "duration": 0,
    "start_time": "2023-05-09T06:56:26.925Z"
   },
   {
    "duration": 0,
    "start_time": "2023-05-09T06:56:26.927Z"
   },
   {
    "duration": 20,
    "start_time": "2023-05-09T06:57:28.606Z"
   },
   {
    "duration": 10,
    "start_time": "2023-05-09T06:57:32.122Z"
   },
   {
    "duration": 12,
    "start_time": "2023-05-09T06:57:35.835Z"
   },
   {
    "duration": 120,
    "start_time": "2023-05-09T06:57:41.049Z"
   },
   {
    "duration": 100,
    "start_time": "2023-05-09T08:04:33.759Z"
   },
   {
    "duration": 21,
    "start_time": "2023-05-09T08:55:15.108Z"
   },
   {
    "duration": 9,
    "start_time": "2023-05-09T09:02:09.154Z"
   },
   {
    "duration": 9,
    "start_time": "2023-05-09T09:02:32.449Z"
   },
   {
    "duration": 6,
    "start_time": "2023-05-09T09:08:24.796Z"
   },
   {
    "duration": 102,
    "start_time": "2023-05-09T09:12:41.979Z"
   },
   {
    "duration": 190,
    "start_time": "2023-05-09T09:16:59.300Z"
   },
   {
    "duration": 158,
    "start_time": "2023-05-09T09:19:33.911Z"
   },
   {
    "duration": 12,
    "start_time": "2023-05-09T09:20:54.690Z"
   },
   {
    "duration": 3,
    "start_time": "2023-05-09T09:23:18.479Z"
   },
   {
    "duration": 296,
    "start_time": "2023-05-09T09:23:58.681Z"
   },
   {
    "duration": 231,
    "start_time": "2023-05-09T09:25:23.058Z"
   },
   {
    "duration": 75,
    "start_time": "2023-05-09T09:31:53.691Z"
   },
   {
    "duration": 95,
    "start_time": "2023-05-09T09:32:11.874Z"
   },
   {
    "duration": 63,
    "start_time": "2023-05-09T09:32:37.543Z"
   },
   {
    "duration": 57,
    "start_time": "2023-05-09T09:34:46.657Z"
   },
   {
    "duration": 182,
    "start_time": "2023-05-09T09:35:09.388Z"
   },
   {
    "duration": 294,
    "start_time": "2023-05-09T09:35:35.214Z"
   },
   {
    "duration": 199,
    "start_time": "2023-05-09T09:35:54.129Z"
   },
   {
    "duration": 213,
    "start_time": "2023-05-09T09:37:38.670Z"
   },
   {
    "duration": 208,
    "start_time": "2023-05-09T09:38:01.937Z"
   },
   {
    "duration": 66,
    "start_time": "2023-05-09T15:20:37.829Z"
   },
   {
    "duration": 1319,
    "start_time": "2023-05-09T15:20:53.042Z"
   },
   {
    "duration": 74,
    "start_time": "2023-05-09T15:20:54.363Z"
   },
   {
    "duration": 4,
    "start_time": "2023-05-09T15:20:54.440Z"
   },
   {
    "duration": 15,
    "start_time": "2023-05-09T15:20:54.446Z"
   },
   {
    "duration": 13,
    "start_time": "2023-05-09T15:20:54.463Z"
   },
   {
    "duration": 16,
    "start_time": "2023-05-09T15:20:54.478Z"
   },
   {
    "duration": 80,
    "start_time": "2023-05-09T15:20:54.496Z"
   },
   {
    "duration": 64,
    "start_time": "2023-05-09T15:20:54.578Z"
   },
   {
    "duration": 21,
    "start_time": "2023-05-09T15:20:54.644Z"
   },
   {
    "duration": 20,
    "start_time": "2023-05-09T15:20:54.669Z"
   },
   {
    "duration": 233,
    "start_time": "2023-05-09T15:20:54.691Z"
   },
   {
    "duration": 131,
    "start_time": "2023-05-09T15:20:54.925Z"
   },
   {
    "duration": 9,
    "start_time": "2023-05-09T15:20:55.058Z"
   },
   {
    "duration": 312,
    "start_time": "2023-05-09T15:20:55.068Z"
   },
   {
    "duration": 227,
    "start_time": "2023-05-09T15:20:55.382Z"
   },
   {
    "duration": 210,
    "start_time": "2023-05-09T15:21:19.347Z"
   },
   {
    "duration": 214,
    "start_time": "2023-05-09T15:21:26.861Z"
   },
   {
    "duration": 198,
    "start_time": "2023-05-09T15:22:25.496Z"
   },
   {
    "duration": 211,
    "start_time": "2023-05-09T15:22:45.023Z"
   },
   {
    "duration": 396,
    "start_time": "2023-05-09T15:39:07.318Z"
   },
   {
    "duration": 270,
    "start_time": "2023-05-09T15:39:21.837Z"
   },
   {
    "duration": 307,
    "start_time": "2023-05-09T15:44:40.073Z"
   },
   {
    "duration": 222,
    "start_time": "2023-05-09T15:44:49.019Z"
   },
   {
    "duration": 322,
    "start_time": "2023-05-09T15:44:54.960Z"
   },
   {
    "duration": 256,
    "start_time": "2023-05-09T16:10:31.824Z"
   },
   {
    "duration": 342,
    "start_time": "2023-05-09T16:20:27.303Z"
   },
   {
    "duration": 339,
    "start_time": "2023-05-09T16:20:54.113Z"
   },
   {
    "duration": 357,
    "start_time": "2023-05-09T16:21:34.764Z"
   },
   {
    "duration": 298,
    "start_time": "2023-05-09T16:25:21.448Z"
   },
   {
    "duration": 320,
    "start_time": "2023-05-09T16:26:53.119Z"
   },
   {
    "duration": 317,
    "start_time": "2023-05-09T16:27:26.903Z"
   },
   {
    "duration": 64,
    "start_time": "2023-05-09T16:52:49.132Z"
   },
   {
    "duration": 261,
    "start_time": "2023-05-09T16:54:19.137Z"
   },
   {
    "duration": 4,
    "start_time": "2023-05-09T17:04:03.725Z"
   },
   {
    "duration": 6,
    "start_time": "2023-05-09T17:07:21.079Z"
   },
   {
    "duration": 8,
    "start_time": "2023-05-09T17:09:40.846Z"
   },
   {
    "duration": 4,
    "start_time": "2023-05-09T17:19:14.941Z"
   },
   {
    "duration": 52,
    "start_time": "2023-05-10T06:21:06.001Z"
   },
   {
    "duration": 1347,
    "start_time": "2023-05-10T06:21:17.015Z"
   },
   {
    "duration": 81,
    "start_time": "2023-05-10T06:21:18.364Z"
   },
   {
    "duration": 4,
    "start_time": "2023-05-10T06:21:18.447Z"
   },
   {
    "duration": 15,
    "start_time": "2023-05-10T06:21:18.454Z"
   },
   {
    "duration": 28,
    "start_time": "2023-05-10T06:21:18.471Z"
   },
   {
    "duration": 15,
    "start_time": "2023-05-10T06:21:18.503Z"
   },
   {
    "duration": 84,
    "start_time": "2023-05-10T06:21:18.520Z"
   },
   {
    "duration": 57,
    "start_time": "2023-05-10T06:21:18.606Z"
   },
   {
    "duration": 13,
    "start_time": "2023-05-10T06:21:18.665Z"
   },
   {
    "duration": 19,
    "start_time": "2023-05-10T06:21:18.681Z"
   },
   {
    "duration": 169,
    "start_time": "2023-05-10T06:21:18.703Z"
   },
   {
    "duration": 128,
    "start_time": "2023-05-10T06:21:18.874Z"
   },
   {
    "duration": 10,
    "start_time": "2023-05-10T06:21:19.003Z"
   },
   {
    "duration": 333,
    "start_time": "2023-05-10T06:21:19.015Z"
   },
   {
    "duration": 223,
    "start_time": "2023-05-10T06:21:19.350Z"
   },
   {
    "duration": 388,
    "start_time": "2023-05-10T06:21:19.575Z"
   },
   {
    "duration": 246,
    "start_time": "2023-05-10T06:21:19.965Z"
   },
   {
    "duration": 324,
    "start_time": "2023-05-10T06:21:20.213Z"
   },
   {
    "duration": 365,
    "start_time": "2023-05-10T06:21:20.540Z"
   },
   {
    "duration": 0,
    "start_time": "2023-05-10T06:21:20.907Z"
   },
   {
    "duration": 0,
    "start_time": "2023-05-10T06:21:20.908Z"
   },
   {
    "duration": 0,
    "start_time": "2023-05-10T06:21:20.910Z"
   },
   {
    "duration": 11,
    "start_time": "2023-05-10T06:21:24.113Z"
   },
   {
    "duration": 209,
    "start_time": "2023-05-10T06:23:50.574Z"
   },
   {
    "duration": 318,
    "start_time": "2023-05-10T06:25:17.811Z"
   },
   {
    "duration": 5,
    "start_time": "2023-05-10T06:28:12.469Z"
   },
   {
    "duration": 16,
    "start_time": "2023-05-10T06:33:44.886Z"
   },
   {
    "duration": 8,
    "start_time": "2023-05-10T06:33:48.537Z"
   },
   {
    "duration": 22,
    "start_time": "2023-05-10T06:34:05.152Z"
   },
   {
    "duration": 17,
    "start_time": "2023-05-10T06:34:26.126Z"
   },
   {
    "duration": 15,
    "start_time": "2023-05-10T06:36:55.553Z"
   },
   {
    "duration": 16,
    "start_time": "2023-05-10T06:37:56.013Z"
   },
   {
    "duration": 103,
    "start_time": "2023-05-10T06:46:59.513Z"
   },
   {
    "duration": 7,
    "start_time": "2023-05-10T06:57:21.929Z"
   },
   {
    "duration": 5,
    "start_time": "2023-05-10T06:57:29.173Z"
   },
   {
    "duration": 56,
    "start_time": "2023-05-10T06:57:29.182Z"
   },
   {
    "duration": 4,
    "start_time": "2023-05-10T06:57:29.241Z"
   },
   {
    "duration": 18,
    "start_time": "2023-05-10T06:57:29.247Z"
   },
   {
    "duration": 12,
    "start_time": "2023-05-10T06:57:29.268Z"
   },
   {
    "duration": 28,
    "start_time": "2023-05-10T06:57:29.282Z"
   },
   {
    "duration": 45,
    "start_time": "2023-05-10T06:57:29.313Z"
   },
   {
    "duration": 19,
    "start_time": "2023-05-10T06:57:29.360Z"
   },
   {
    "duration": 33,
    "start_time": "2023-05-10T06:57:29.381Z"
   },
   {
    "duration": 24,
    "start_time": "2023-05-10T06:57:29.416Z"
   },
   {
    "duration": 6,
    "start_time": "2023-05-10T06:57:29.442Z"
   },
   {
    "duration": 7,
    "start_time": "2023-05-10T06:57:29.450Z"
   },
   {
    "duration": 200,
    "start_time": "2023-05-10T06:57:29.458Z"
   },
   {
    "duration": 137,
    "start_time": "2023-05-10T06:57:29.660Z"
   },
   {
    "duration": 18,
    "start_time": "2023-05-10T06:57:29.803Z"
   },
   {
    "duration": 259,
    "start_time": "2023-05-10T06:57:29.824Z"
   },
   {
    "duration": 279,
    "start_time": "2023-05-10T06:57:30.085Z"
   },
   {
    "duration": 370,
    "start_time": "2023-05-10T06:57:30.367Z"
   },
   {
    "duration": 360,
    "start_time": "2023-05-10T06:57:30.739Z"
   },
   {
    "duration": 347,
    "start_time": "2023-05-10T06:57:31.101Z"
   },
   {
    "duration": 349,
    "start_time": "2023-05-10T06:57:31.450Z"
   },
   {
    "duration": 22,
    "start_time": "2023-05-10T06:57:31.801Z"
   },
   {
    "duration": 6,
    "start_time": "2023-05-10T06:57:31.825Z"
   },
   {
    "duration": 19,
    "start_time": "2023-05-10T06:57:31.832Z"
   },
   {
    "duration": 205,
    "start_time": "2023-05-10T06:57:31.852Z"
   },
   {
    "duration": 5,
    "start_time": "2023-05-10T06:57:32.058Z"
   },
   {
    "duration": 354,
    "start_time": "2023-05-10T06:59:31.679Z"
   },
   {
    "duration": 324,
    "start_time": "2023-05-10T07:00:40.039Z"
   },
   {
    "duration": 26,
    "start_time": "2023-05-10T07:25:25.306Z"
   },
   {
    "duration": 43,
    "start_time": "2023-05-10T07:25:57.682Z"
   },
   {
    "duration": 26,
    "start_time": "2023-05-10T07:26:15.953Z"
   },
   {
    "duration": 10,
    "start_time": "2023-05-10T07:54:06.328Z"
   },
   {
    "duration": 325,
    "start_time": "2023-05-10T07:54:20.503Z"
   },
   {
    "duration": 25,
    "start_time": "2023-05-10T07:54:24.334Z"
   },
   {
    "duration": 4,
    "start_time": "2023-05-10T07:54:56.769Z"
   },
   {
    "duration": 57,
    "start_time": "2023-05-10T07:54:56.776Z"
   },
   {
    "duration": 3,
    "start_time": "2023-05-10T07:54:56.835Z"
   },
   {
    "duration": 45,
    "start_time": "2023-05-10T07:54:56.840Z"
   },
   {
    "duration": 18,
    "start_time": "2023-05-10T07:54:56.888Z"
   },
   {
    "duration": 20,
    "start_time": "2023-05-10T07:54:56.908Z"
   },
   {
    "duration": 55,
    "start_time": "2023-05-10T07:54:56.930Z"
   },
   {
    "duration": 20,
    "start_time": "2023-05-10T07:54:56.986Z"
   },
   {
    "duration": 14,
    "start_time": "2023-05-10T07:54:57.008Z"
   },
   {
    "duration": 40,
    "start_time": "2023-05-10T07:54:57.024Z"
   },
   {
    "duration": 14,
    "start_time": "2023-05-10T07:54:57.068Z"
   },
   {
    "duration": 11,
    "start_time": "2023-05-10T07:54:57.084Z"
   },
   {
    "duration": 180,
    "start_time": "2023-05-10T07:54:57.097Z"
   },
   {
    "duration": 136,
    "start_time": "2023-05-10T07:54:57.278Z"
   },
   {
    "duration": 10,
    "start_time": "2023-05-10T07:54:57.416Z"
   },
   {
    "duration": 245,
    "start_time": "2023-05-10T07:54:57.428Z"
   },
   {
    "duration": 332,
    "start_time": "2023-05-10T07:54:57.675Z"
   },
   {
    "duration": 331,
    "start_time": "2023-05-10T07:54:58.009Z"
   },
   {
    "duration": 257,
    "start_time": "2023-05-10T07:54:58.342Z"
   },
   {
    "duration": 324,
    "start_time": "2023-05-10T07:54:58.601Z"
   },
   {
    "duration": 308,
    "start_time": "2023-05-10T07:54:58.927Z"
   },
   {
    "duration": 8,
    "start_time": "2023-05-10T07:54:59.237Z"
   },
   {
    "duration": 30,
    "start_time": "2023-05-10T07:54:59.247Z"
   },
   {
    "duration": 42,
    "start_time": "2023-05-10T07:54:59.279Z"
   },
   {
    "duration": 168,
    "start_time": "2023-05-10T07:54:59.323Z"
   },
   {
    "duration": 4,
    "start_time": "2023-05-10T07:54:59.493Z"
   },
   {
    "duration": 393,
    "start_time": "2023-05-10T07:54:59.499Z"
   },
   {
    "duration": 25,
    "start_time": "2023-05-10T07:54:59.893Z"
   },
   {
    "duration": 12,
    "start_time": "2023-05-10T08:06:02.213Z"
   },
   {
    "duration": 10,
    "start_time": "2023-05-10T08:27:49.659Z"
   },
   {
    "duration": 7,
    "start_time": "2023-05-10T08:33:12.317Z"
   },
   {
    "duration": 9,
    "start_time": "2023-05-10T08:34:27.438Z"
   },
   {
    "duration": 22,
    "start_time": "2023-05-10T08:35:22.848Z"
   },
   {
    "duration": 25,
    "start_time": "2023-05-10T08:36:04.452Z"
   },
   {
    "duration": 8,
    "start_time": "2023-05-10T08:36:47.714Z"
   },
   {
    "duration": 22,
    "start_time": "2023-05-10T08:44:43.973Z"
   },
   {
    "duration": 76,
    "start_time": "2023-05-10T18:31:40.119Z"
   },
   {
    "duration": 1559,
    "start_time": "2023-05-10T18:31:58.285Z"
   },
   {
    "duration": 106,
    "start_time": "2023-05-10T18:31:59.847Z"
   },
   {
    "duration": 3,
    "start_time": "2023-05-10T18:31:59.955Z"
   },
   {
    "duration": 20,
    "start_time": "2023-05-10T18:31:59.960Z"
   },
   {
    "duration": 22,
    "start_time": "2023-05-10T18:31:59.982Z"
   },
   {
    "duration": 44,
    "start_time": "2023-05-10T18:32:00.006Z"
   },
   {
    "duration": 204,
    "start_time": "2023-05-10T18:32:00.051Z"
   },
   {
    "duration": 76,
    "start_time": "2023-05-10T18:32:00.257Z"
   },
   {
    "duration": 16,
    "start_time": "2023-05-10T18:32:00.335Z"
   },
   {
    "duration": 51,
    "start_time": "2023-05-10T18:32:00.354Z"
   },
   {
    "duration": 32,
    "start_time": "2023-05-10T18:32:00.407Z"
   },
   {
    "duration": 60,
    "start_time": "2023-05-10T18:32:00.441Z"
   },
   {
    "duration": 231,
    "start_time": "2023-05-10T18:32:00.503Z"
   },
   {
    "duration": 173,
    "start_time": "2023-05-10T18:32:00.736Z"
   },
   {
    "duration": 11,
    "start_time": "2023-05-10T18:32:00.911Z"
   },
   {
    "duration": 364,
    "start_time": "2023-05-10T18:32:00.924Z"
   },
   {
    "duration": 256,
    "start_time": "2023-05-10T18:32:01.291Z"
   },
   {
    "duration": 382,
    "start_time": "2023-05-10T18:32:01.549Z"
   },
   {
    "duration": 270,
    "start_time": "2023-05-10T18:32:01.934Z"
   },
   {
    "duration": 328,
    "start_time": "2023-05-10T18:32:02.207Z"
   },
   {
    "duration": 311,
    "start_time": "2023-05-10T18:32:02.537Z"
   },
   {
    "duration": 26,
    "start_time": "2023-05-10T18:32:02.851Z"
   },
   {
    "duration": 26,
    "start_time": "2023-05-10T18:32:02.882Z"
   },
   {
    "duration": 32,
    "start_time": "2023-05-10T18:32:02.909Z"
   },
   {
    "duration": 194,
    "start_time": "2023-05-10T18:32:02.943Z"
   },
   {
    "duration": 4,
    "start_time": "2023-05-10T18:32:03.139Z"
   },
   {
    "duration": 372,
    "start_time": "2023-05-10T18:32:03.145Z"
   },
   {
    "duration": 22,
    "start_time": "2023-05-10T18:32:03.520Z"
   },
   {
    "duration": 28,
    "start_time": "2023-05-10T18:32:03.543Z"
   },
   {
    "duration": 16,
    "start_time": "2023-05-10T18:32:03.573Z"
   },
   {
    "duration": 12,
    "start_time": "2023-05-10T18:32:03.591Z"
   },
   {
    "duration": 31,
    "start_time": "2023-05-10T18:32:03.605Z"
   },
   {
    "duration": 15,
    "start_time": "2023-05-10T18:32:03.638Z"
   },
   {
    "duration": 28,
    "start_time": "2023-05-10T18:50:07.908Z"
   },
   {
    "duration": 28,
    "start_time": "2023-05-10T18:50:29.056Z"
   },
   {
    "duration": 27,
    "start_time": "2023-05-10T18:51:08.539Z"
   },
   {
    "duration": 23,
    "start_time": "2023-05-10T18:52:26.634Z"
   },
   {
    "duration": 28,
    "start_time": "2023-05-10T18:52:42.353Z"
   },
   {
    "duration": 24,
    "start_time": "2023-05-10T18:53:11.725Z"
   },
   {
    "duration": 24,
    "start_time": "2023-05-10T18:53:26.488Z"
   },
   {
    "duration": 12,
    "start_time": "2023-05-10T18:55:44.438Z"
   },
   {
    "duration": 92,
    "start_time": "2023-05-10T19:09:41.571Z"
   },
   {
    "duration": 12,
    "start_time": "2023-05-10T19:11:58.313Z"
   },
   {
    "duration": 268,
    "start_time": "2023-05-10T19:13:32.656Z"
   },
   {
    "duration": 70,
    "start_time": "2023-05-10T19:15:21.554Z"
   },
   {
    "duration": 1183,
    "start_time": "2023-05-11T11:26:41.802Z"
   },
   {
    "duration": 32,
    "start_time": "2023-05-11T11:26:42.987Z"
   },
   {
    "duration": 4,
    "start_time": "2023-05-11T11:26:43.021Z"
   },
   {
    "duration": 15,
    "start_time": "2023-05-11T11:26:43.026Z"
   },
   {
    "duration": 12,
    "start_time": "2023-05-11T11:26:43.043Z"
   },
   {
    "duration": 14,
    "start_time": "2023-05-11T11:26:43.056Z"
   },
   {
    "duration": 56,
    "start_time": "2023-05-11T11:26:43.072Z"
   },
   {
    "duration": 18,
    "start_time": "2023-05-11T11:26:43.130Z"
   },
   {
    "duration": 16,
    "start_time": "2023-05-11T11:26:43.150Z"
   },
   {
    "duration": 47,
    "start_time": "2023-05-11T11:26:43.169Z"
   },
   {
    "duration": 6,
    "start_time": "2023-05-11T11:26:43.218Z"
   },
   {
    "duration": 10,
    "start_time": "2023-05-11T11:26:43.226Z"
   },
   {
    "duration": 191,
    "start_time": "2023-05-11T11:26:43.238Z"
   },
   {
    "duration": 139,
    "start_time": "2023-05-11T11:26:43.431Z"
   },
   {
    "duration": 21,
    "start_time": "2023-05-11T11:26:43.572Z"
   },
   {
    "duration": 324,
    "start_time": "2023-05-11T11:26:43.594Z"
   },
   {
    "duration": 237,
    "start_time": "2023-05-11T11:26:43.920Z"
   },
   {
    "duration": 351,
    "start_time": "2023-05-11T11:26:44.158Z"
   },
   {
    "duration": 258,
    "start_time": "2023-05-11T11:26:44.511Z"
   },
   {
    "duration": 349,
    "start_time": "2023-05-11T11:26:44.771Z"
   },
   {
    "duration": 303,
    "start_time": "2023-05-11T11:26:45.122Z"
   },
   {
    "duration": 8,
    "start_time": "2023-05-11T11:26:45.427Z"
   },
   {
    "duration": 25,
    "start_time": "2023-05-11T11:26:45.436Z"
   },
   {
    "duration": 25,
    "start_time": "2023-05-11T11:26:45.463Z"
   },
   {
    "duration": 175,
    "start_time": "2023-05-11T11:26:45.490Z"
   },
   {
    "duration": 4,
    "start_time": "2023-05-11T11:26:45.666Z"
   },
   {
    "duration": 381,
    "start_time": "2023-05-11T11:26:45.673Z"
   },
   {
    "duration": 22,
    "start_time": "2023-05-11T11:26:46.058Z"
   },
   {
    "duration": 11,
    "start_time": "2023-05-11T11:26:46.093Z"
   },
   {
    "duration": 25,
    "start_time": "2023-05-11T11:26:46.106Z"
   },
   {
    "duration": 9,
    "start_time": "2023-05-11T11:26:46.133Z"
   },
   {
    "duration": 38,
    "start_time": "2023-05-11T11:26:46.143Z"
   },
   {
    "duration": 23,
    "start_time": "2023-05-11T11:26:46.183Z"
   },
   {
    "duration": 45,
    "start_time": "2023-05-18T12:36:44.818Z"
   },
   {
    "duration": 1510,
    "start_time": "2023-05-18T12:37:08.669Z"
   },
   {
    "duration": 91,
    "start_time": "2023-05-18T12:37:10.182Z"
   },
   {
    "duration": 4,
    "start_time": "2023-05-18T12:37:10.275Z"
   },
   {
    "duration": 32,
    "start_time": "2023-05-18T12:37:10.281Z"
   },
   {
    "duration": 27,
    "start_time": "2023-05-18T12:37:10.315Z"
   },
   {
    "duration": 38,
    "start_time": "2023-05-18T12:37:10.344Z"
   },
   {
    "duration": 92,
    "start_time": "2023-05-18T12:37:10.384Z"
   },
   {
    "duration": 65,
    "start_time": "2023-05-18T12:37:10.477Z"
   },
   {
    "duration": 18,
    "start_time": "2023-05-18T12:37:10.544Z"
   },
   {
    "duration": 26,
    "start_time": "2023-05-18T12:37:10.566Z"
   },
   {
    "duration": 5,
    "start_time": "2023-05-18T12:37:10.594Z"
   },
   {
    "duration": 19,
    "start_time": "2023-05-18T12:37:10.601Z"
   },
   {
    "duration": 203,
    "start_time": "2023-05-18T12:37:10.622Z"
   },
   {
    "duration": 159,
    "start_time": "2023-05-18T12:37:10.827Z"
   },
   {
    "duration": 11,
    "start_time": "2023-05-18T12:37:10.988Z"
   },
   {
    "duration": 390,
    "start_time": "2023-05-18T12:37:11.000Z"
   },
   {
    "duration": 291,
    "start_time": "2023-05-18T12:37:11.392Z"
   },
   {
    "duration": 400,
    "start_time": "2023-05-18T12:37:11.685Z"
   },
   {
    "duration": 276,
    "start_time": "2023-05-18T12:37:12.087Z"
   },
   {
    "duration": 369,
    "start_time": "2023-05-18T12:37:12.365Z"
   },
   {
    "duration": 305,
    "start_time": "2023-05-18T12:37:12.737Z"
   },
   {
    "duration": 13,
    "start_time": "2023-05-18T12:37:13.044Z"
   },
   {
    "duration": 25,
    "start_time": "2023-05-18T12:37:13.059Z"
   },
   {
    "duration": 6,
    "start_time": "2023-05-18T12:37:13.086Z"
   },
   {
    "duration": 22,
    "start_time": "2023-05-18T12:37:13.095Z"
   },
   {
    "duration": 224,
    "start_time": "2023-05-18T12:37:13.119Z"
   },
   {
    "duration": 4,
    "start_time": "2023-05-18T12:37:13.345Z"
   },
   {
    "duration": 397,
    "start_time": "2023-05-18T12:37:13.364Z"
   },
   {
    "duration": 29,
    "start_time": "2023-05-18T12:37:13.764Z"
   },
   {
    "duration": 13,
    "start_time": "2023-05-18T12:37:13.796Z"
   },
   {
    "duration": 14,
    "start_time": "2023-05-18T12:37:13.811Z"
   },
   {
    "duration": 36,
    "start_time": "2023-05-18T12:37:13.827Z"
   },
   {
    "duration": 30,
    "start_time": "2023-05-18T12:37:13.865Z"
   },
   {
    "duration": 15,
    "start_time": "2023-05-18T12:37:13.897Z"
   },
   {
    "duration": 88,
    "start_time": "2023-05-18T12:52:54.855Z"
   },
   {
    "duration": 190,
    "start_time": "2023-05-18T12:54:00.912Z"
   },
   {
    "duration": 16,
    "start_time": "2023-05-18T12:54:07.074Z"
   },
   {
    "duration": 360,
    "start_time": "2023-05-18T12:54:32.800Z"
   },
   {
    "duration": 232,
    "start_time": "2023-05-18T12:56:06.318Z"
   },
   {
    "duration": 192,
    "start_time": "2023-05-18T13:01:20.422Z"
   },
   {
    "duration": 253,
    "start_time": "2023-05-18T13:02:15.557Z"
   },
   {
    "duration": 276,
    "start_time": "2023-05-18T13:02:59.455Z"
   },
   {
    "duration": 44,
    "start_time": "2023-05-18T13:03:56.203Z"
   },
   {
    "duration": 39,
    "start_time": "2023-05-18T13:04:20.779Z"
   },
   {
    "duration": 281,
    "start_time": "2023-05-18T13:04:27.298Z"
   },
   {
    "duration": 233,
    "start_time": "2023-05-18T13:06:23.090Z"
   },
   {
    "duration": 240,
    "start_time": "2023-05-18T13:06:36.302Z"
   },
   {
    "duration": 33,
    "start_time": "2023-05-18T13:06:46.283Z"
   },
   {
    "duration": 269,
    "start_time": "2023-05-18T13:07:59.603Z"
   },
   {
    "duration": 233,
    "start_time": "2023-05-18T13:08:47.982Z"
   },
   {
    "duration": 275,
    "start_time": "2023-05-18T13:09:17.782Z"
   },
   {
    "duration": 247,
    "start_time": "2023-05-18T13:09:41.867Z"
   },
   {
    "duration": 128,
    "start_time": "2023-05-18T13:11:46.667Z"
   },
   {
    "duration": 317,
    "start_time": "2023-05-18T14:23:12.481Z"
   }
  ],
  "kernelspec": {
   "display_name": "Python 3 (ipykernel)",
   "language": "python",
   "name": "python3"
  },
  "language_info": {
   "codemirror_mode": {
    "name": "ipython",
    "version": 3
   },
   "file_extension": ".py",
   "mimetype": "text/x-python",
   "name": "python",
   "nbconvert_exporter": "python",
   "pygments_lexer": "ipython3",
   "version": "3.9.5"
  },
  "toc": {
   "base_numbering": 1,
   "nav_menu": {},
   "number_sections": true,
   "sideBar": true,
   "skip_h1_title": true,
   "title_cell": "Table of Contents",
   "title_sidebar": "Contents",
   "toc_cell": false,
   "toc_position": {},
   "toc_section_display": true,
   "toc_window_display": false
  }
 },
 "nbformat": 4,
 "nbformat_minor": 2
}
